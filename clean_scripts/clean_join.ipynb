{
 "cells": [
  {
   "cell_type": "code",
   "execution_count": 1,
   "metadata": {},
   "outputs": [],
   "source": [
    "import pyspark\n",
    "from pyspark.sql import SparkSession\n",
    "from pyspark.sql import SQLContext\n",
    "import pandas as pd\n",
    "import sys\n",
    "import os\n",
    "from pyspark.sql.functions import isnan, when, count, col\n",
    "from pyspark.sql.functions import to_timestamp\n",
    "import time\n",
    "from pyspark.sql import functions as fn\n",
    "\n",
    "import datetime\n",
    "from pyspark.sql.functions import year, month, dayofmonth, hour, minute, second"
   ]
  },
  {
   "cell_type": "code",
   "execution_count": 2,
   "metadata": {},
   "outputs": [],
   "source": [
    "spark = SparkSession.builder.appName('data-cleaning').\\\n",
    "                        config(\"spark.executor.instances\", '3').\\\n",
    "                        config(\"spark.executor.memory\", '40g').\\\n",
    "                        config('spark.executor.cores', '5').\\\n",
    "                        config('spark.cores.max', '5').appName('data_clean').\\\n",
    "                        getOrCreate()"
   ]
  },
  {
   "cell_type": "code",
   "execution_count": 37,
   "metadata": {},
   "outputs": [],
   "source": [
    "spark.sparkContext.addFile('../libraries/spark-csv_2.11-1.5.0.jar')"
   ]
  },
  {
   "cell_type": "code",
   "execution_count": 3,
   "metadata": {},
   "outputs": [],
   "source": [
    "sqlContext = SQLContext(spark.sparkContext)"
   ]
  },
  {
   "cell_type": "code",
   "execution_count": 4,
   "metadata": {},
   "outputs": [],
   "source": [
    "app_events = spark.read.format(\"csv\").option(\"header\", \"true\").load('../data/app_events.csv')\n",
    "phone_brands = spark.read.format(\"csv\").option(\"header\", \"true\").load('../modeled_data/phone_brand_device_model_mod.csv')\n",
    "events = spark.read.format(\"csv\").option(\"header\", \"true\").load('../data/events.csv')\n",
    "app_labels = spark.read.format(\"csv\").option(\"header\", \"true\").load('../data/app_labels.csv')\n",
    "label_categories = spark.read.format(\"csv\").option(\"header\", \"true\").load('../data/label_categories.csv')\n",
    "gender_age = spark.read.format(\"csv\").option(\"header\", \"true\").load('../data/gender_age_train.csv')"
   ]
  },
  {
   "cell_type": "code",
   "execution_count": 5,
   "metadata": {},
   "outputs": [],
   "source": [
    "#app_events_sampled = app_events.sample(False, 0.004, seed=0)"
   ]
  },
  {
   "cell_type": "code",
   "execution_count": 6,
   "metadata": {},
   "outputs": [
    {
     "data": {
      "text/html": [
       "<div>\n",
       "<style scoped>\n",
       "    .dataframe tbody tr th:only-of-type {\n",
       "        vertical-align: middle;\n",
       "    }\n",
       "\n",
       "    .dataframe tbody tr th {\n",
       "        vertical-align: top;\n",
       "    }\n",
       "\n",
       "    .dataframe thead th {\n",
       "        text-align: right;\n",
       "    }\n",
       "</style>\n",
       "<table border=\"1\" class=\"dataframe\">\n",
       "  <thead>\n",
       "    <tr style=\"text-align: right;\">\n",
       "      <th></th>\n",
       "      <th>event_id</th>\n",
       "      <th>app_id</th>\n",
       "      <th>is_installed</th>\n",
       "      <th>is_active</th>\n",
       "    </tr>\n",
       "  </thead>\n",
       "  <tbody>\n",
       "    <tr>\n",
       "      <th>0</th>\n",
       "      <td>2</td>\n",
       "      <td>5927333115845830913</td>\n",
       "      <td>1</td>\n",
       "      <td>1</td>\n",
       "    </tr>\n",
       "    <tr>\n",
       "      <th>1</th>\n",
       "      <td>2</td>\n",
       "      <td>-5720078949152207372</td>\n",
       "      <td>1</td>\n",
       "      <td>0</td>\n",
       "    </tr>\n",
       "    <tr>\n",
       "      <th>2</th>\n",
       "      <td>2</td>\n",
       "      <td>-1633887856876571208</td>\n",
       "      <td>1</td>\n",
       "      <td>0</td>\n",
       "    </tr>\n",
       "    <tr>\n",
       "      <th>3</th>\n",
       "      <td>2</td>\n",
       "      <td>-653184325010919369</td>\n",
       "      <td>1</td>\n",
       "      <td>1</td>\n",
       "    </tr>\n",
       "    <tr>\n",
       "      <th>4</th>\n",
       "      <td>2</td>\n",
       "      <td>8693964245073640147</td>\n",
       "      <td>1</td>\n",
       "      <td>1</td>\n",
       "    </tr>\n",
       "  </tbody>\n",
       "</table>\n",
       "</div>"
      ],
      "text/plain": [
       "  event_id                app_id is_installed is_active\n",
       "0        2   5927333115845830913            1         1\n",
       "1        2  -5720078949152207372            1         0\n",
       "2        2  -1633887856876571208            1         0\n",
       "3        2   -653184325010919369            1         1\n",
       "4        2   8693964245073640147            1         1"
      ]
     },
     "execution_count": 6,
     "metadata": {},
     "output_type": "execute_result"
    }
   ],
   "source": [
    "app_events.limit(5).toPandas()"
   ]
  },
  {
   "cell_type": "code",
   "execution_count": 7,
   "metadata": {},
   "outputs": [
    {
     "data": {
      "text/plain": [
       "129728"
      ]
     },
     "execution_count": 7,
     "metadata": {},
     "output_type": "execute_result"
    }
   ],
   "source": [
    "app_events_sampled.count()"
   ]
  },
  {
   "cell_type": "code",
   "execution_count": 9,
   "metadata": {},
   "outputs": [],
   "source": [
    "inner_join = events.join(app_events_sampled, 'event_id', 'inner')"
   ]
  },
  {
   "cell_type": "code",
   "execution_count": 50,
   "metadata": {},
   "outputs": [
    {
     "name": "stdout",
     "output_type": "stream",
     "text": [
      "+------------+-----+\n",
      "|event_id_int|count|\n",
      "+------------+-----+\n",
      "|        39.0|    1|\n",
      "|        44.0|    1|\n",
      "|        61.0|    1|\n",
      "|        87.0|    1|\n",
      "|        99.0|    1|\n",
      "|       114.0|    1|\n",
      "|       116.0|    1|\n",
      "|       122.0|    1|\n",
      "|       127.0|    1|\n",
      "|       130.0|    1|\n",
      "|       136.0|    1|\n",
      "|       138.0|    1|\n",
      "|       139.0|    1|\n",
      "|       149.0|    2|\n",
      "|       163.0|    1|\n",
      "|       164.0|    1|\n",
      "|       172.0|    1|\n",
      "|       229.0|    1|\n",
      "|       243.0|    1|\n",
      "|       284.0|    1|\n",
      "+------------+-----+\n",
      "only showing top 20 rows\n",
      "\n"
     ]
    }
   ],
   "source": [
    "from pyspark.sql.functions import desc\n",
    "app_events_sampled.select(col('event_id').cast('float').\\\n",
    "                          alias('event_id_int')).\\\n",
    "                          groupBy('event_id_int').count().\\\n",
    "                          sort('event_id_int').show()"
   ]
  },
  {
   "cell_type": "code",
   "execution_count": 65,
   "metadata": {},
   "outputs": [
    {
     "name": "stdout",
     "output_type": "stream",
     "text": [
      "+------------+-----+\n",
      "|event_id_int|count|\n",
      "+------------+-----+\n",
      "|    127215.0|    4|\n",
      "|   1575608.0|    4|\n",
      "|    595011.0|    4|\n",
      "|    967852.0|    4|\n",
      "|   2871565.0|    4|\n",
      "|   2974398.0|    4|\n",
      "|   1307712.0|    4|\n",
      "|   2403830.0|    4|\n",
      "|   1660728.0|    4|\n",
      "|   2016371.0|    4|\n",
      "|    890346.0|    4|\n",
      "|   3067706.0|    4|\n",
      "|   1814487.0|    4|\n",
      "|   2076599.0|    4|\n",
      "|   2091032.0|    4|\n",
      "|    640263.0|    4|\n",
      "|   1550168.0|    4|\n",
      "|    410166.0|    4|\n",
      "|   2842067.0|    4|\n",
      "|   1958728.0|    4|\n",
      "+------------+-----+\n",
      "only showing top 20 rows\n",
      "\n"
     ]
    }
   ],
   "source": [
    "#inner_join.limit(5).toPandas()\n",
    "inner_join.select(col('event_id').cast('float').\\\n",
    "                          alias('event_id_int')).\\\n",
    "                          groupBy('event_id_int').count().\\\n",
    "                          sort(desc('count')).show()"
   ]
  },
  {
   "cell_type": "code",
   "execution_count": 10,
   "metadata": {},
   "outputs": [
    {
     "data": {
      "text/html": [
       "<div>\n",
       "<style scoped>\n",
       "    .dataframe tbody tr th:only-of-type {\n",
       "        vertical-align: middle;\n",
       "    }\n",
       "\n",
       "    .dataframe tbody tr th {\n",
       "        vertical-align: top;\n",
       "    }\n",
       "\n",
       "    .dataframe thead th {\n",
       "        text-align: right;\n",
       "    }\n",
       "</style>\n",
       "<table border=\"1\" class=\"dataframe\">\n",
       "  <thead>\n",
       "    <tr style=\"text-align: right;\">\n",
       "      <th></th>\n",
       "      <th>event_id</th>\n",
       "      <th>device_id</th>\n",
       "      <th>timestamp</th>\n",
       "      <th>longitude</th>\n",
       "      <th>latitude</th>\n",
       "      <th>app_id</th>\n",
       "      <th>is_installed</th>\n",
       "      <th>is_active</th>\n",
       "    </tr>\n",
       "  </thead>\n",
       "  <tbody>\n",
       "    <tr>\n",
       "      <th>0</th>\n",
       "      <td>127215</td>\n",
       "      <td>3893593125511450725</td>\n",
       "      <td>2016-05-05 09:27:03</td>\n",
       "      <td>116.28</td>\n",
       "      <td>39.91</td>\n",
       "      <td>-3820274685127793704</td>\n",
       "      <td>1</td>\n",
       "      <td>0</td>\n",
       "    </tr>\n",
       "    <tr>\n",
       "      <th>1</th>\n",
       "      <td>127215</td>\n",
       "      <td>3893593125511450725</td>\n",
       "      <td>2016-05-05 09:27:03</td>\n",
       "      <td>116.28</td>\n",
       "      <td>39.91</td>\n",
       "      <td>2417928574338319794</td>\n",
       "      <td>1</td>\n",
       "      <td>0</td>\n",
       "    </tr>\n",
       "    <tr>\n",
       "      <th>2</th>\n",
       "      <td>127215</td>\n",
       "      <td>3893593125511450725</td>\n",
       "      <td>2016-05-05 09:27:03</td>\n",
       "      <td>116.28</td>\n",
       "      <td>39.91</td>\n",
       "      <td>5094932332409343445</td>\n",
       "      <td>1</td>\n",
       "      <td>0</td>\n",
       "    </tr>\n",
       "    <tr>\n",
       "      <th>3</th>\n",
       "      <td>127215</td>\n",
       "      <td>3893593125511450725</td>\n",
       "      <td>2016-05-05 09:27:03</td>\n",
       "      <td>116.28</td>\n",
       "      <td>39.91</td>\n",
       "      <td>1538962728253750182</td>\n",
       "      <td>1</td>\n",
       "      <td>0</td>\n",
       "    </tr>\n",
       "  </tbody>\n",
       "</table>\n",
       "</div>"
      ],
      "text/plain": [
       "  event_id            device_id            timestamp longitude latitude  \\\n",
       "0   127215  3893593125511450725  2016-05-05 09:27:03    116.28    39.91   \n",
       "1   127215  3893593125511450725  2016-05-05 09:27:03    116.28    39.91   \n",
       "2   127215  3893593125511450725  2016-05-05 09:27:03    116.28    39.91   \n",
       "3   127215  3893593125511450725  2016-05-05 09:27:03    116.28    39.91   \n",
       "\n",
       "                 app_id is_installed is_active  \n",
       "0  -3820274685127793704            1         0  \n",
       "1   2417928574338319794            1         0  \n",
       "2   5094932332409343445            1         0  \n",
       "3   1538962728253750182            1         0  "
      ]
     },
     "execution_count": 10,
     "metadata": {},
     "output_type": "execute_result"
    }
   ],
   "source": [
    "inner_join.filter((inner_join.event_id == 127215.0)).toPandas()"
   ]
  },
  {
   "cell_type": "code",
   "execution_count": 11,
   "metadata": {},
   "outputs": [
    {
     "data": {
      "text/plain": [
       "77944"
      ]
     },
     "execution_count": 11,
     "metadata": {},
     "output_type": "execute_result"
    }
   ],
   "source": [
    "#inner_join.count()\n",
    "inner_join.filter((inner_join.longitude == '0.00') & (inner_join.latitude == '0.00')).count()"
   ]
  },
  {
   "cell_type": "code",
   "execution_count": 22,
   "metadata": {},
   "outputs": [
    {
     "data": {
      "text/plain": [
       "184812"
      ]
     },
     "execution_count": 22,
     "metadata": {},
     "output_type": "execute_result"
    }
   ],
   "source": [
    "full_data = inner_join.join(phone_brands, 'device_id', 'inner').\\\n",
    "                        join(app_labels, 'app_id', 'inner').\\\n",
    "                        join(label_categories, 'label_id', 'inner').\\\n",
    "                        join(gender_age, 'device_id', 'inner')\n",
    "full_data.filter((full_data.longitude == '0.00') & (full_data.latitude == '0.00')).count()"
   ]
  },
  {
   "cell_type": "code",
   "execution_count": 24,
   "metadata": {},
   "outputs": [],
   "source": [
    "full_data=full_data.withColumn('time-stamp',to_timestamp('timestamp')).drop('timestamp').drop('timestamp')\n",
    "full_data=full_data.withColumn('year',year(fn.col('time-stamp'))).\\\n",
    "    withColumn('month',month(fn.col('time-stamp'))).\\\n",
    "    withColumn('day',dayofmonth(fn.col('time-stamp'))).\\\n",
    "    withColumn('hour',hour(fn.col('time-stamp'))).\\\n",
    "    withColumn('minute',minute(fn.col('time-stamp'))).\\\n",
    "    withColumn('second',second(fn.col('time-stamp')))\n",
    "full_data=full_data.drop('year').drop('month').drop('time-stamp')"
   ]
  },
  {
   "cell_type": "code",
   "execution_count": 33,
   "metadata": {},
   "outputs": [],
   "source": [
    "events_train = full_data.filter((full_data.longitude != '0.00') & (full_data.latitude != '0.00'))\n",
    "events_test = full_data.filter((full_data.longitude == '0.00') & (full_data.latitude == '0.00'))"
   ]
  },
  {
   "cell_type": "code",
   "execution_count": 23,
   "metadata": {},
   "outputs": [
    {
     "data": {
      "text/plain": [
       "130261"
      ]
     },
     "execution_count": 23,
     "metadata": {},
     "output_type": "execute_result"
    }
   ],
   "source": [
    "events_train.count()"
   ]
  },
  {
   "cell_type": "code",
   "execution_count": 26,
   "metadata": {},
   "outputs": [
    {
     "data": {
      "text/html": [
       "<div>\n",
       "<style scoped>\n",
       "    .dataframe tbody tr th:only-of-type {\n",
       "        vertical-align: middle;\n",
       "    }\n",
       "\n",
       "    .dataframe tbody tr th {\n",
       "        vertical-align: top;\n",
       "    }\n",
       "\n",
       "    .dataframe thead th {\n",
       "        text-align: right;\n",
       "    }\n",
       "</style>\n",
       "<table border=\"1\" class=\"dataframe\">\n",
       "  <thead>\n",
       "    <tr style=\"text-align: right;\">\n",
       "      <th></th>\n",
       "      <th>device_id</th>\n",
       "      <th>label_id</th>\n",
       "      <th>app_id</th>\n",
       "      <th>event_id</th>\n",
       "      <th>longitude</th>\n",
       "      <th>latitude</th>\n",
       "      <th>is_installed</th>\n",
       "      <th>is_active</th>\n",
       "      <th>device_model</th>\n",
       "      <th>phone_brand</th>\n",
       "      <th>category</th>\n",
       "      <th>gender</th>\n",
       "      <th>age</th>\n",
       "      <th>group</th>\n",
       "      <th>day</th>\n",
       "      <th>hour</th>\n",
       "      <th>minute</th>\n",
       "      <th>second</th>\n",
       "    </tr>\n",
       "  </thead>\n",
       "  <tbody>\n",
       "    <tr>\n",
       "      <th>0</th>\n",
       "      <td>-4968154927622705128</td>\n",
       "      <td>713</td>\n",
       "      <td>-145658454112781034</td>\n",
       "      <td>4633</td>\n",
       "      <td>116.38</td>\n",
       "      <td>39.96</td>\n",
       "      <td>1</td>\n",
       "      <td>0</td>\n",
       "      <td>荣耀6 Plus</td>\n",
       "      <td>Huawei</td>\n",
       "      <td>Services 1</td>\n",
       "      <td>F</td>\n",
       "      <td>53</td>\n",
       "      <td>F43+</td>\n",
       "      <td>1</td>\n",
       "      <td>7</td>\n",
       "      <td>48</td>\n",
       "      <td>6</td>\n",
       "    </tr>\n",
       "    <tr>\n",
       "      <th>1</th>\n",
       "      <td>-4968154927622705128</td>\n",
       "      <td>704</td>\n",
       "      <td>-145658454112781034</td>\n",
       "      <td>4633</td>\n",
       "      <td>116.38</td>\n",
       "      <td>39.96</td>\n",
       "      <td>1</td>\n",
       "      <td>0</td>\n",
       "      <td>荣耀6 Plus</td>\n",
       "      <td>Huawei</td>\n",
       "      <td>Property Industry 2.0</td>\n",
       "      <td>F</td>\n",
       "      <td>53</td>\n",
       "      <td>F43+</td>\n",
       "      <td>1</td>\n",
       "      <td>7</td>\n",
       "      <td>48</td>\n",
       "      <td>6</td>\n",
       "    </tr>\n",
       "    <tr>\n",
       "      <th>2</th>\n",
       "      <td>-4968154927622705128</td>\n",
       "      <td>548</td>\n",
       "      <td>-145658454112781034</td>\n",
       "      <td>4633</td>\n",
       "      <td>116.38</td>\n",
       "      <td>39.96</td>\n",
       "      <td>1</td>\n",
       "      <td>0</td>\n",
       "      <td>荣耀6 Plus</td>\n",
       "      <td>Huawei</td>\n",
       "      <td>Industry tag</td>\n",
       "      <td>F</td>\n",
       "      <td>53</td>\n",
       "      <td>F43+</td>\n",
       "      <td>1</td>\n",
       "      <td>7</td>\n",
       "      <td>48</td>\n",
       "      <td>6</td>\n",
       "    </tr>\n",
       "    <tr>\n",
       "      <th>3</th>\n",
       "      <td>-4968154927622705128</td>\n",
       "      <td>302</td>\n",
       "      <td>-145658454112781034</td>\n",
       "      <td>4633</td>\n",
       "      <td>116.38</td>\n",
       "      <td>39.96</td>\n",
       "      <td>1</td>\n",
       "      <td>0</td>\n",
       "      <td>荣耀6 Plus</td>\n",
       "      <td>Huawei</td>\n",
       "      <td>unknown</td>\n",
       "      <td>F</td>\n",
       "      <td>53</td>\n",
       "      <td>F43+</td>\n",
       "      <td>1</td>\n",
       "      <td>7</td>\n",
       "      <td>48</td>\n",
       "      <td>6</td>\n",
       "    </tr>\n",
       "    <tr>\n",
       "      <th>4</th>\n",
       "      <td>-4968154927622705128</td>\n",
       "      <td>303</td>\n",
       "      <td>-145658454112781034</td>\n",
       "      <td>4633</td>\n",
       "      <td>116.38</td>\n",
       "      <td>39.96</td>\n",
       "      <td>1</td>\n",
       "      <td>0</td>\n",
       "      <td>荣耀6 Plus</td>\n",
       "      <td>Huawei</td>\n",
       "      <td>unknown</td>\n",
       "      <td>F</td>\n",
       "      <td>53</td>\n",
       "      <td>F43+</td>\n",
       "      <td>1</td>\n",
       "      <td>7</td>\n",
       "      <td>48</td>\n",
       "      <td>6</td>\n",
       "    </tr>\n",
       "  </tbody>\n",
       "</table>\n",
       "</div>"
      ],
      "text/plain": [
       "              device_id label_id               app_id event_id longitude  \\\n",
       "0  -4968154927622705128      713  -145658454112781034     4633    116.38   \n",
       "1  -4968154927622705128      704  -145658454112781034     4633    116.38   \n",
       "2  -4968154927622705128      548  -145658454112781034     4633    116.38   \n",
       "3  -4968154927622705128      302  -145658454112781034     4633    116.38   \n",
       "4  -4968154927622705128      303  -145658454112781034     4633    116.38   \n",
       "\n",
       "  latitude is_installed is_active device_model phone_brand  \\\n",
       "0    39.96            1         0     荣耀6 Plus      Huawei   \n",
       "1    39.96            1         0     荣耀6 Plus      Huawei   \n",
       "2    39.96            1         0     荣耀6 Plus      Huawei   \n",
       "3    39.96            1         0     荣耀6 Plus      Huawei   \n",
       "4    39.96            1         0     荣耀6 Plus      Huawei   \n",
       "\n",
       "                category gender age group  day  hour  minute  second  \n",
       "0             Services 1      F  53  F43+    1     7      48       6  \n",
       "1  Property Industry 2.0      F  53  F43+    1     7      48       6  \n",
       "2           Industry tag      F  53  F43+    1     7      48       6  \n",
       "3                unknown      F  53  F43+    1     7      48       6  \n",
       "4                unknown      F  53  F43+    1     7      48       6  "
      ]
     },
     "execution_count": 26,
     "metadata": {},
     "output_type": "execute_result"
    }
   ],
   "source": [
    "events_train.limit(5).toPandas()"
   ]
  },
  {
   "cell_type": "code",
   "execution_count": 34,
   "metadata": {},
   "outputs": [],
   "source": [
    "from pyspark.sql.types import FloatType\n",
    "from pyspark.sql.types import IntegerType\n",
    "\n",
    "float_columns = ['app_id', 'device_id', 'label_id', 'event_id', 'longitude', 'latitude']\n",
    "int_columns = ['is_active', 'age', 'is_installed', 'day', 'hour', 'minute', 'second']\n",
    "string_columns = ['gender', 'group', 'category', 'phone_brand', 'device_model']\n",
    "\n",
    "combined_data_set = [events_train, events_test]\n",
    "events_train, events_test = [dataset.select(*(col(c).cast(\"float\").alias(c) for c in float_columns), \\\n",
    "                                                 *(col(c).cast(\"int\").alias(c) for c in int_columns), \\\n",
    "                                                 *(col(c).alias(c) for c in string_columns)) \\\n",
    "                for dataset in combined_data_set]"
   ]
  },
  {
   "cell_type": "code",
   "execution_count": 36,
   "metadata": {},
   "outputs": [
    {
     "name": "stdout",
     "output_type": "stream",
     "text": [
      "root\n",
      " |-- app_id: float (nullable = true)\n",
      " |-- device_id: float (nullable = true)\n",
      " |-- label_id: float (nullable = true)\n",
      " |-- event_id: float (nullable = true)\n",
      " |-- longitude: float (nullable = true)\n",
      " |-- latitude: float (nullable = true)\n",
      " |-- is_active: integer (nullable = true)\n",
      " |-- age: integer (nullable = true)\n",
      " |-- is_installed: integer (nullable = true)\n",
      " |-- day: integer (nullable = true)\n",
      " |-- hour: integer (nullable = true)\n",
      " |-- minute: integer (nullable = true)\n",
      " |-- second: integer (nullable = true)\n",
      " |-- gender: string (nullable = true)\n",
      " |-- group: string (nullable = true)\n",
      " |-- category: string (nullable = true)\n",
      " |-- phone_brand: string (nullable = true)\n",
      " |-- device_model: string (nullable = true)\n",
      "\n"
     ]
    }
   ],
   "source": [
    "events_test.printSchema()"
   ]
  },
  {
   "cell_type": "code",
   "execution_count": 42,
   "metadata": {},
   "outputs": [],
   "source": [
    "events_train.toPandas().to_csv(\"../modeled_data/train.csv\", index=False)"
   ]
  },
  {
   "cell_type": "code",
   "execution_count": 41,
   "metadata": {},
   "outputs": [],
   "source": [
    "events_test.toPandas().to_csv(\"../modeled_data/test.csv\", index=False)"
   ]
  },
  {
   "cell_type": "code",
   "execution_count": null,
   "metadata": {},
   "outputs": [],
   "source": []
  }
 ],
 "metadata": {
  "kernelspec": {
   "display_name": "Python 3",
   "language": "python",
   "name": "python3"
  },
  "language_info": {
   "codemirror_mode": {
    "name": "ipython",
    "version": 3
   },
   "file_extension": ".py",
   "mimetype": "text/x-python",
   "name": "python",
   "nbconvert_exporter": "python",
   "pygments_lexer": "ipython3",
   "version": "3.6.6"
  }
 },
 "nbformat": 4,
 "nbformat_minor": 2
}
