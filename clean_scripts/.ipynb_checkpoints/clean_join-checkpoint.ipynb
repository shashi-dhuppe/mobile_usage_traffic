{
 "cells": [
  {
   "cell_type": "code",
   "execution_count": 1,
   "metadata": {},
   "outputs": [],
   "source": [
    "import pyspark\n",
    "from pyspark.sql import SparkSession\n",
    "from pyspark.sql import SQLContext\n",
    "import pandas as pd\n",
    "import sys\n",
    "import os\n",
    "from pyspark.sql.functions import isnan, when, count, col"
   ]
  },
  {
   "cell_type": "code",
   "execution_count": 2,
   "metadata": {},
   "outputs": [],
   "source": [
    "spark = SparkSession.builder.appName('data-cleaning').\\\n",
    "                        config(\"spark.executor.instances\", '3').\\\n",
    "                        config(\"spark.executor.memory\", '40g').\\\n",
    "                        config('spark.executor.cores', '5').\\\n",
    "                        config('spark.cores.max', '5').appName('data_clean').\\\n",
    "                        getOrCreate()"
   ]
  },
  {
   "cell_type": "code",
   "execution_count": 3,
   "metadata": {},
   "outputs": [],
   "source": [
    "spark.sparkContext.addFile('../libraries/spark-csv_2.11-1.5.0.jar')"
   ]
  },
  {
   "cell_type": "code",
   "execution_count": 4,
   "metadata": {},
   "outputs": [],
   "source": [
    "sqlContext = SQLContext(spark.sparkContext)"
   ]
  },
  {
   "cell_type": "code",
   "execution_count": 5,
   "metadata": {},
   "outputs": [],
   "source": [
    "app_events = sqlContext.read.format('com.databricks.spark.csv').options(header='true', inferschema='true').load('../data/app_events.csv')\n",
    "phone_brands = sqlContext.read.format('com.databricks.spark.csv').options(header='true', inferschema='true').load('../modeled_data/phone_brand_device_model_mod.csv')\n",
    "events = sqlContext.read.format('com.databricks.spark.csv').options(header='true', inferschema='true').load('../data/events.csv')\n",
    "app_labels = sqlContext.read.format('com.databricks.spark.csv').options(header='true', inferschema='true').load('../data/app_labels.csv')\n",
    "label_categories = sqlContext.read.format('com.databricks.spark.csv').options(header='true', inferschema='true').load('../data/label_categories.csv')\n",
    "gender_age = sqlContext.read.format('com.databricks.spark.csv').options(header='true', inferschema='true').load('../data/gender_age_train.csv')"
   ]
  },
  {
   "cell_type": "code",
   "execution_count": 6,
   "metadata": {},
   "outputs": [],
   "source": [
    "app_events.limit(5).toPandas()"
   ]
  },
  {
   "cell_type": "code",
   "execution_count": 7,
   "metadata": {},
   "outputs": [],
   "source": [
    "phone_brands.limit(5).toPandas()"
   ]
  },
  {
   "cell_type": "code",
   "execution_count": 8,
   "metadata": {},
   "outputs": [],
   "source": [
    "events.limit(5).toPandas()"
   ]
  },
  {
   "cell_type": "code",
   "execution_count": 9,
   "metadata": {},
   "outputs": [],
   "source": [
    "app_labels.limit(5).toPandas()"
   ]
  },
  {
   "cell_type": "code",
   "execution_count": 10,
   "metadata": {},
   "outputs": [],
   "source": [
    "label_categories.limit(5).toPandas()"
   ]
  },
  {
   "cell_type": "code",
   "execution_count": 11,
   "metadata": {},
   "outputs": [],
   "source": [
    "gender_age.limit(5).toPandas()"
   ]
  },
  {
   "cell_type": "code",
   "execution_count": 12,
   "metadata": {},
   "outputs": [],
   "source": [
    "inner_join = events.join(phone_brands, \"device_id\").\\\n",
    "                    join(app_events, 'event_id').\\\n",
    "                    join(app_labels, 'app_id').\\\n",
    "                    join(label_categories, 'label_id').\\\n",
    "                    join(gender_age, 'device_id')\n",
    "join(app_events, \"app_id\")"
   ]
  },
  {
   "cell_type": "code",
   "execution_count": 13,
   "metadata": {},
   "outputs": [],
   "source": [
    "sample = inner_join.limit(10).toPandas()"
   ]
  },
  {
   "cell_type": "code",
   "execution_count": 14,
   "metadata": {},
   "outputs": [],
   "source": [
    "sample"
   ]
  },
  {
   "cell_type": "code",
   "execution_count": 15,
   "metadata": {},
   "outputs": [],
   "source": [
    "reordered_columns = ['device_id', 'phone_brand', 'device_model', 'app_id', 'is_active', 'is_installed', 'category', 'gender', 'age', 'group', 'event_id', 'timestamp', 'latitude', 'longitude']"
   ]
  },
  {
   "cell_type": "code",
   "execution_count": 16,
   "metadata": {},
   "outputs": [],
   "source": [
    "inner_join = inner_join[reordered_columns]"
   ]
  },
  {
   "cell_type": "code",
   "execution_count": 17,
   "metadata": {},
   "outputs": [],
   "source": [
    "inner_join.printSchema()"
   ]
  },
  {
   "cell_type": "code",
   "execution_count": 18,
   "metadata": {},
   "outputs": [
    {
     "data": {
      "text/plain": [
       "['device_id',\n",
       " 'phone_brand',\n",
       " 'device_model',\n",
       " 'app_id',\n",
       " 'is_active',\n",
       " 'is_installed',\n",
       " 'category',\n",
       " 'gender',\n",
       " 'age',\n",
       " 'group',\n",
       " 'event_id',\n",
       " 'latitude',\n",
       " 'longitude']"
      ]
     },
     "execution_count": 18,
     "metadata": {},
     "output_type": "execute_result"
    }
   ],
   "source": [
    "cols = inner_join.columns\n",
    "if 'timestamp' in cols: cols.remove('timestamp')\n",
    "cols"
   ]
  },
  {
   "cell_type": "code",
   "execution_count": 19,
   "metadata": {},
   "outputs": [],
   "source": [
    "inner_join.select([count(when(isnan(c), c)).alias(c)\\\n",
    "                   for c in cols]).show()"
   ]
  },
  {
   "cell_type": "code",
   "execution_count": 20,
   "metadata": {},
   "outputs": [],
   "source": [
    "clean_data = inner_join.filter((col('latitude').isin([0]) == 'False') | \\\n",
    "                               (col('longitude').isin([0]) == 'False'))"
   ]
  },
  {
   "cell_type": "code",
   "execution_count": 21,
   "metadata": {},
   "outputs": [],
   "source": [
    "inner_join.groupBy('phone_brand').agg({'phone_brand':'count'}).limit(5).show()"
   ]
  },
  {
   "cell_type": "code",
   "execution_count": 22,
   "metadata": {},
   "outputs": [],
   "source": [
    "clean_data.write('../data/clean_data.csv', 'com.databricks.spark.csv')\n",
    "clean_data.repartition(1).write.format('com.databricks.spark.csv').save(\"../data/clean_data.csv\",header = 'true')"
   ]
  },
  {
   "cell_type": "code",
   "execution_count": 23,
   "metadata": {},
   "outputs": [],
   "source": [
    "load_data = sqlContext.read.format('com.databricks.spark.csv').options(header='true', inferschema='true').load('../data/clean_data.csv/part-00000-a4e5319d-2cf6-42ab-a97f-4e4ce1cfee52-c000.csv')\n",
    "clean_data.write.parquet('../modeled_data/clean_data.parquet')\n",
    "clean_data_rdd = clean_data.rdd"
   ]
  },
  {
   "cell_type": "code",
   "execution_count": 24,
   "metadata": {},
   "outputs": [
    {
     "data": {
      "text/plain": [
       "200"
      ]
     },
     "execution_count": 24,
     "metadata": {},
     "output_type": "execute_result"
    }
   ],
   "source": [
    "clean_data_rdd.getNumPartitions()"
   ]
  },
  {
   "cell_type": "code",
   "execution_count": 25,
   "metadata": {},
   "outputs": [],
   "source": [
    "clean_data.write.parquet('../modeled_data/clean_data.parquet')"
   ]
  },
  {
   "cell_type": "code",
   "execution_count": 27,
   "metadata": {},
   "outputs": [],
   "source": [
    "sample = sqlContext.read.parquet('../modeled_data/clean_data.parquet')"
   ]
  },
  {
   "cell_type": "code",
   "execution_count": 28,
   "metadata": {},
   "outputs": [
    {
     "data": {
      "text/html": [
       "<div>\n",
       "<style scoped>\n",
       "    .dataframe tbody tr th:only-of-type {\n",
       "        vertical-align: middle;\n",
       "    }\n",
       "\n",
       "    .dataframe tbody tr th {\n",
       "        vertical-align: top;\n",
       "    }\n",
       "\n",
       "    .dataframe thead th {\n",
       "        text-align: right;\n",
       "    }\n",
       "</style>\n",
       "<table border=\"1\" class=\"dataframe\">\n",
       "  <thead>\n",
       "    <tr style=\"text-align: right;\">\n",
       "      <th></th>\n",
       "      <th>device_id</th>\n",
       "      <th>phone_brand</th>\n",
       "      <th>device_model</th>\n",
       "      <th>app_id</th>\n",
       "      <th>is_active</th>\n",
       "      <th>is_installed</th>\n",
       "      <th>category</th>\n",
       "      <th>gender</th>\n",
       "      <th>age</th>\n",
       "      <th>group</th>\n",
       "      <th>event_id</th>\n",
       "      <th>timestamp</th>\n",
       "      <th>latitude</th>\n",
       "      <th>longitude</th>\n",
       "    </tr>\n",
       "  </thead>\n",
       "  <tbody>\n",
       "    <tr>\n",
       "      <th>0</th>\n",
       "      <td>-2263134200994072375</td>\n",
       "      <td>Xiaomi</td>\n",
       "      <td>红米Note2</td>\n",
       "      <td>-9066890603850550053</td>\n",
       "      <td>0</td>\n",
       "      <td>1</td>\n",
       "      <td>The elimination of class</td>\n",
       "      <td>F</td>\n",
       "      <td>56</td>\n",
       "      <td>F43+</td>\n",
       "      <td>2508603</td>\n",
       "      <td>2016-05-03 08:46:04</td>\n",
       "      <td>40.73</td>\n",
       "      <td>122.1</td>\n",
       "    </tr>\n",
       "    <tr>\n",
       "      <th>1</th>\n",
       "      <td>-2263134200994072375</td>\n",
       "      <td>Xiaomi</td>\n",
       "      <td>红米Note2</td>\n",
       "      <td>-9066890603850550053</td>\n",
       "      <td>0</td>\n",
       "      <td>1</td>\n",
       "      <td>game</td>\n",
       "      <td>F</td>\n",
       "      <td>56</td>\n",
       "      <td>F43+</td>\n",
       "      <td>2508603</td>\n",
       "      <td>2016-05-03 08:46:04</td>\n",
       "      <td>40.73</td>\n",
       "      <td>122.1</td>\n",
       "    </tr>\n",
       "    <tr>\n",
       "      <th>2</th>\n",
       "      <td>-2263134200994072375</td>\n",
       "      <td>Xiaomi</td>\n",
       "      <td>红米Note2</td>\n",
       "      <td>-9066890603850550053</td>\n",
       "      <td>0</td>\n",
       "      <td>1</td>\n",
       "      <td>Tencent</td>\n",
       "      <td>F</td>\n",
       "      <td>56</td>\n",
       "      <td>F43+</td>\n",
       "      <td>2508603</td>\n",
       "      <td>2016-05-03 08:46:04</td>\n",
       "      <td>40.73</td>\n",
       "      <td>122.1</td>\n",
       "    </tr>\n",
       "    <tr>\n",
       "      <th>3</th>\n",
       "      <td>-2263134200994072375</td>\n",
       "      <td>Xiaomi</td>\n",
       "      <td>红米Note2</td>\n",
       "      <td>-9066890603850550053</td>\n",
       "      <td>0</td>\n",
       "      <td>1</td>\n",
       "      <td>Custom label</td>\n",
       "      <td>F</td>\n",
       "      <td>56</td>\n",
       "      <td>F43+</td>\n",
       "      <td>2508603</td>\n",
       "      <td>2016-05-03 08:46:04</td>\n",
       "      <td>40.73</td>\n",
       "      <td>122.1</td>\n",
       "    </tr>\n",
       "    <tr>\n",
       "      <th>4</th>\n",
       "      <td>-2263134200994072375</td>\n",
       "      <td>Xiaomi</td>\n",
       "      <td>红米Note2</td>\n",
       "      <td>-9066890603850550053</td>\n",
       "      <td>0</td>\n",
       "      <td>1</td>\n",
       "      <td>The elimination of class</td>\n",
       "      <td>F</td>\n",
       "      <td>56</td>\n",
       "      <td>F43+</td>\n",
       "      <td>36755</td>\n",
       "      <td>2016-05-04 08:36:22</td>\n",
       "      <td>40.72</td>\n",
       "      <td>122.1</td>\n",
       "    </tr>\n",
       "  </tbody>\n",
       "</table>\n",
       "</div>"
      ],
      "text/plain": [
       "             device_id phone_brand device_model               app_id  \\\n",
       "0 -2263134200994072375      Xiaomi      红米Note2 -9066890603850550053   \n",
       "1 -2263134200994072375      Xiaomi      红米Note2 -9066890603850550053   \n",
       "2 -2263134200994072375      Xiaomi      红米Note2 -9066890603850550053   \n",
       "3 -2263134200994072375      Xiaomi      红米Note2 -9066890603850550053   \n",
       "4 -2263134200994072375      Xiaomi      红米Note2 -9066890603850550053   \n",
       "\n",
       "   is_active  is_installed                  category gender  age group  \\\n",
       "0          0             1  The elimination of class      F   56  F43+   \n",
       "1          0             1                      game      F   56  F43+   \n",
       "2          0             1                   Tencent      F   56  F43+   \n",
       "3          0             1              Custom label      F   56  F43+   \n",
       "4          0             1  The elimination of class      F   56  F43+   \n",
       "\n",
       "   event_id           timestamp  latitude  longitude  \n",
       "0   2508603 2016-05-03 08:46:04     40.73      122.1  \n",
       "1   2508603 2016-05-03 08:46:04     40.73      122.1  \n",
       "2   2508603 2016-05-03 08:46:04     40.73      122.1  \n",
       "3   2508603 2016-05-03 08:46:04     40.73      122.1  \n",
       "4     36755 2016-05-04 08:36:22     40.72      122.1  "
      ]
     },
     "execution_count": 28,
     "metadata": {},
     "output_type": "execute_result"
    }
   ],
   "source": [
    "sample.limit(5).toPandas()"
   ]
  },
  {
   "cell_type": "code",
   "execution_count": 29,
   "metadata": {},
   "outputs": [],
   "source": [
    "spark.stop()"
   ]
  },
  {
   "cell_type": "code",
   "execution_count": null,
   "metadata": {},
   "outputs": [],
   "source": []
  }
 ],
 "metadata": {
  "kernelspec": {
   "display_name": "Python 3",
   "language": "python",
   "name": "python3"
  },
  "language_info": {
   "codemirror_mode": {
    "name": "ipython",
    "version": 3
   },
   "file_extension": ".py",
   "mimetype": "text/x-python",
   "name": "python",
   "nbconvert_exporter": "python",
   "pygments_lexer": "ipython3",
   "version": "3.6.6"
  }
 },
 "nbformat": 4,
 "nbformat_minor": 2
}
