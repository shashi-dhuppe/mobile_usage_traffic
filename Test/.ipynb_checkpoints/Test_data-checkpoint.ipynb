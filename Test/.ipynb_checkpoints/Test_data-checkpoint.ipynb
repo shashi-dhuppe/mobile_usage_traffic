{
 "cells": [
  {
   "cell_type": "code",
   "execution_count": 13,
   "metadata": {},
   "outputs": [],
   "source": [
    "import findspark\n",
    "import os\n",
    "import sys\n",
    "findspark.init('/usr/local/spark/')\n",
    "import pyspark\n",
    "from pyspark.sql import SparkSession\n",
    "from pyspark.sql import SQLContext\n",
    "import pandas as pd\n",
    "import sys\n",
    "import os\n",
    "from pyspark.sql.functions import isnan, when, count, col\n",
    "from pyspark.sql.functions import to_timestamp\n",
    "import time\n",
    "from pyspark.sql import functions as fn\n",
    "from pyspark.ml import feature, regression, Pipeline\n",
    "\n",
    "import datetime\n",
    "from pyspark.sql.functions import year, month, dayofmonth, hour, minute, second\n",
    "from pyspark.mllib.stat import Statistics\n",
    "import pandas as pd\n",
    "\n",
    "import matplotlib.pyplot as plt\n",
    "import numpy as np\n",
    "\n",
    "from pyspark.ml.tuning import CrossValidator, ParamGridBuilder\n",
    "\n",
    "from pyspark.sql.types import FloatType\n",
    "from pyspark.sql.types import IntegerType\n",
    "\n",
    "spark = SparkSession.builder.appName('testing').getOrCreate()\n",
    "\n",
    "sqlContext = SQLContext(spark.sparkContext)\n",
    "\n",
    "from pyspark.ml import Pipeline\n",
    "from pyspark.ml import feature\n",
    "from pyspark.ml import classification\n",
    "from pyspark.ml.evaluation import BinaryClassificationEvaluator, MulticlassClassificationEvaluator, RegressionEvaluator\n",
    "import ipywidgets\n",
    "from ipywidgets import widgets\n",
    "from ipywidgets import interact, interactive, fixed, interact_manual\n",
    "import ipywidgets as widgets\n",
    "from IPython.display import display\n",
    "import pandas as pd\n",
    "from IPython.core.interactiveshell import InteractiveShell\n",
    "InteractiveShell.ast_node_interactivity = \"all\""
   ]
  },
  {
   "cell_type": "code",
   "execution_count": 34,
   "metadata": {},
   "outputs": [],
   "source": [
    "def predict(device_id_options,\n",
    "    label_id_options,\n",
    "    app_id_options,\n",
    "    event_id_options,\n",
    "    is_active_options,\n",
    "    device_model_options,\n",
    "    phone_brand_options,\n",
    "    town_options,\n",
    "    country_options,\n",
    "    age_group_options,\n",
    "    time_of_day_options,\n",
    "    category_options):\n",
    "    data = {'device_id': [device_id_options.value], \n",
    "        'label_id': [label_id_options.value],\n",
    "        'app_id': [app_id_options.value],\n",
    "        'event_id': [event_id_options.value],\n",
    "        'is_active': [is_active_options.value],\n",
    "        'device_model': [device_model_options.value],\n",
    "        'phone_brand': [phone_brand_options.value],\n",
    "        'town': [town_options.value],\n",
    "        'country': [country_options.value],\n",
    "        'age_group': [age_group_options.value],\n",
    "        'time_of_day': [time_of_day_options.value],\n",
    "        'category_mapped': [category_options.value]\n",
    "       }\n",
    "\n",
    "    df = pd.DataFrame(data)\n",
    "    ddf = spark.createDataFrame(df)\n",
    "\n",
    "    float_columns = ['device_id', 'app_id', 'label_id', 'event_id']\n",
    "    int_columns = ['is_active']\n",
    "    string_columns = ['phone_brand', 'device_model', 'town', 'country', 'category_mapped', 'time_of_day', 'age_group']\n",
    "\n",
    "    ddf = ddf.select(*(col(c).cast(\"float\").alias(c) for c in float_columns), \\\n",
    "                                                     *(col(c).cast(\"int\").alias(c) for c in int_columns), \\\n",
    "                                                     *(col(c).alias(c) for c in string_columns))\n",
    "\n",
    "    rf_model = Pipeline.load(\"/user/ananth/rf\")\n",
    "\n",
    "    prediction = rf_model.fit(ddf).transform(ddf)\n",
    "\n",
    "    return prediction.select('prediction').take(1)"
   ]
  },
  {
   "cell_type": "code",
   "execution_count": 3,
   "metadata": {},
   "outputs": [],
   "source": [
    "data = pd.read_csv('../modeled_data//spark_data.csv')"
   ]
  },
  {
   "cell_type": "code",
   "execution_count": 4,
   "metadata": {},
   "outputs": [],
   "source": [
    "device_id_options = widgets.Dropdown(description = \"device_id\", options = data.device_id.unique(), value = None)\n",
    "label_id_options = widgets.Dropdown(description = \"label_id\", options = data.label_id.unique(), value = None)\n",
    "app_id_options = widgets.Dropdown(description = \"app_id\", options = data.app_id.unique(), value = None)\n",
    "event_id_options = widgets.Dropdown(description = \"event_id\", options = data.event_id.unique(), value = None)\n",
    "is_active_options = widgets.Dropdown(description = \"is_active\", options = data.is_active.unique(), value = None)\n",
    "device_model_options = widgets.Dropdown(description = \"device_model\", options = data.device_model.unique(), value = None)\n",
    "phone_brand_options = widgets.Dropdown(description = \"phone_brand\", options = data.phone_brand.unique(), value = None)\n",
    "town_options = widgets.Dropdown(description = \"town\", options = data.town.unique(), value = None)\n",
    "country_options = widgets.Dropdown(description = \"country\", options = data.country.unique(), value = None)\n",
    "age_group_options = widgets.Dropdown(description = \"age_group\", options = data.age_group.unique(), value = None)\n",
    "time_of_day_options = widgets.Dropdown(description = \"time_of_day\", options = data.time_of_day.unique(), value = None)\n",
    "category_options = widgets.Dropdown(description = \"category\", options = data.category_mapped.unique(), value = None)"
   ]
  },
  {
   "cell_type": "code",
   "execution_count": 6,
   "metadata": {
    "scrolled": true
   },
   "outputs": [
    {
     "data": {
      "application/vnd.jupyter.widget-view+json": {
       "model_id": "d7065edda05e491fad1304fd032688ea",
       "version_major": 2,
       "version_minor": 0
      },
      "text/plain": [
       "Dropdown(description='device_id', options=(-4968154927622705128, -6754902882206380496, 5416618857406916680, 16…"
      ]
     },
     "metadata": {},
     "output_type": "display_data"
    },
    {
     "data": {
      "application/vnd.jupyter.widget-view+json": {
       "model_id": "b1530ed632fd424da89908c4017ecf55",
       "version_major": 2,
       "version_minor": 0
      },
      "text/plain": [
       "Dropdown(description='label_id', options=(713, 704, 548, 302, 303, 163, 252, 691, 751, 755, 775, 781, 786, 254…"
      ]
     },
     "metadata": {},
     "output_type": "display_data"
    },
    {
     "data": {
      "application/vnd.jupyter.widget-view+json": {
       "model_id": "4f2630c49749448eabb4320e6d4e8451",
       "version_major": 2,
       "version_minor": 0
      },
      "text/plain": [
       "Dropdown(description='app_id', options=(-145658454112781034, 1001398498434380294, 4806930764894851172, -163388…"
      ]
     },
     "metadata": {},
     "output_type": "display_data"
    },
    {
     "data": {
      "application/vnd.jupyter.widget-view+json": {
       "model_id": "aa98973c5115484fac01802a3e0466c1",
       "version_major": 2,
       "version_minor": 0
      },
      "text/plain": [
       "Dropdown(description='event_id', options=(4633, 2646946, 2637619, 986947, 1138183, 1145863, 2742068, 35963, 17…"
      ]
     },
     "metadata": {},
     "output_type": "display_data"
    },
    {
     "data": {
      "application/vnd.jupyter.widget-view+json": {
       "model_id": "280e162720ad414899bf71caa8c19d20",
       "version_major": 2,
       "version_minor": 0
      },
      "text/plain": [
       "Dropdown(description='is_active', options=(0, 1), value=None)"
      ]
     },
     "metadata": {},
     "output_type": "display_data"
    },
    {
     "data": {
      "application/vnd.jupyter.widget-view+json": {
       "model_id": "68d61f75673f4bfead95318fa35cd37f",
       "version_major": 2,
       "version_minor": 0
      },
      "text/plain": [
       "Dropdown(description='device_model', options=('荣耀6 Plus', '超级手机1', 'Galaxy S5', 'X6 D', 'X6 Plus D', 'N1 Mini'…"
      ]
     },
     "metadata": {},
     "output_type": "display_data"
    },
    {
     "data": {
      "application/vnd.jupyter.widget-view+json": {
       "model_id": "8e94a53f3c624da193564e329e6a6694",
       "version_major": 2,
       "version_minor": 0
      },
      "text/plain": [
       "Dropdown(description='phone_brand', options=('Huawei', 'lshi', 'samsung', 'vivo', 'OPPO', 'meizu', 'Xiaomi', '…"
      ]
     },
     "metadata": {},
     "output_type": "display_data"
    },
    {
     "data": {
      "application/vnd.jupyter.widget-view+json": {
       "model_id": "4fe6ce4577be41889e1739d8d5111731",
       "version_major": 2,
       "version_minor": 0
      },
      "text/plain": [
       "Dropdown(description='town', options=('Beijing Shi', 'Chongqing', 'Henan', 'Shanxi', 'Jiangsu Sheng', 'Sichuan…"
      ]
     },
     "metadata": {},
     "output_type": "display_data"
    },
    {
     "data": {
      "application/vnd.jupyter.widget-view+json": {
       "model_id": "c44e72ae2696418b874b79fab1de70a7",
       "version_major": 2,
       "version_minor": 0
      },
      "text/plain": [
       "Dropdown(description='country', options=('China', 'Undefined', 'Canada', 'Kazakhstan', 'Macau', 'India', 'Unit…"
      ]
     },
     "metadata": {},
     "output_type": "display_data"
    },
    {
     "data": {
      "application/vnd.jupyter.widget-view+json": {
       "model_id": "f9c79b9e5d2b41d58e7caf26bea3c6b0",
       "version_major": 2,
       "version_minor": 0
      },
      "text/plain": [
       "Dropdown(description='age_group', options=('50-59', '26-35', '35-50', '22-26', '17-22', '59-90', '0-17'), valu…"
      ]
     },
     "metadata": {},
     "output_type": "display_data"
    },
    {
     "data": {
      "application/vnd.jupyter.widget-view+json": {
       "model_id": "b1ae5e011fae4de3a9d111672478e5f6",
       "version_major": 2,
       "version_minor": 0
      },
      "text/plain": [
       "Dropdown(description='time_of_day', options=('morning', 'evening', 'midnight', 'noon'), value=None)"
      ]
     },
     "metadata": {},
     "output_type": "display_data"
    },
    {
     "data": {
      "application/vnd.jupyter.widget-view+json": {
       "model_id": "166ad3ca669548f5879ca180ca8e290a",
       "version_major": 2,
       "version_minor": 0
      },
      "text/plain": [
       "Dropdown(description='category', options=('industry', 'other', 'utilities', 'finance', 'stock', 'social', 'tra…"
      ]
     },
     "metadata": {},
     "output_type": "display_data"
    }
   ],
   "source": [
    "device_id_options\n",
    "label_id_options\n",
    "app_id_options\n",
    "event_id_options\n",
    "is_active_options\n",
    "device_model_options\n",
    "phone_brand_options\n",
    "town_options\n",
    "country_options\n",
    "age_group_options\n",
    "time_of_day_options\n",
    "category_options"
   ]
  },
  {
   "cell_type": "code",
   "execution_count": 41,
   "metadata": {},
   "outputs": [
    {
     "data": {
      "text/plain": [
       "4776615415577209426"
      ]
     },
     "execution_count": 41,
     "metadata": {},
     "output_type": "execute_result"
    }
   ],
   "source": [
    "device_id_options.value"
   ]
  },
  {
   "cell_type": "code",
   "execution_count": 44,
   "metadata": {},
   "outputs": [
    {
     "data": {
      "text/plain": [
       "[Row(prediction=0.0)]"
      ]
     },
     "execution_count": 44,
     "metadata": {},
     "output_type": "execute_result"
    }
   ],
   "source": [
    "predict(device_id_options,\n",
    "    label_id_options,\n",
    "    app_id_options,\n",
    "    event_id_options,\n",
    "    is_active_options,\n",
    "    device_model_options,\n",
    "    phone_brand_options,\n",
    "    town_options,\n",
    "    country_options,\n",
    "    age_group_options,\n",
    "    time_of_day_options,\n",
    "    category_options)"
   ]
  },
  {
   "cell_type": "code",
   "execution_count": null,
   "metadata": {},
   "outputs": [],
   "source": []
  }
 ],
 "metadata": {
  "kernelspec": {
   "display_name": "Python 3",
   "language": "python",
   "name": "python3"
  },
  "language_info": {
   "codemirror_mode": {
    "name": "ipython",
    "version": 3
   },
   "file_extension": ".py",
   "mimetype": "text/x-python",
   "name": "python",
   "nbconvert_exporter": "python",
   "pygments_lexer": "ipython3",
   "version": "3.6.8"
  }
 },
 "nbformat": 4,
 "nbformat_minor": 2
}
