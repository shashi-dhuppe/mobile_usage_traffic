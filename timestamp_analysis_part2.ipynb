{
 "cells": [
  {
   "cell_type": "code",
   "execution_count": 21,
   "metadata": {},
   "outputs": [],
   "source": [
    "# create spark and sparkcontext objects\n",
    "from pyspark.ml import feature\n",
    "from pyspark.ml import clustering\n",
    "from pyspark.ml import Pipeline\n",
    "from pyspark.sql import functions as fn\n",
    "import numpy as np\n",
    "from pyspark.sql import SparkSession\n",
    "from pyspark.ml import feature, regression, evaluation, Pipeline\n",
    "from pyspark.sql import functions as fn, Row\n",
    "import matplotlib.pyplot as plt\n",
    "spark = SparkSession.builder.getOrCreate()\n",
    "sc = spark.sparkContext\n",
    "import pandas as pd\n",
    "\n",
    "from pyspark.sql.functions import to_timestamp\n",
    "import time\n",
    "\n",
    "import datetime\n",
    "from pyspark.sql.functions import year, month, dayofmonth"
   ]
  },
  {
   "cell_type": "code",
   "execution_count": 2,
   "metadata": {},
   "outputs": [],
   "source": [
    "train_df = spark.read.format(\"csv\").option(\"header\", \"true\").load(\"gender_age_train.csv\")"
   ]
  },
  {
   "cell_type": "code",
   "execution_count": 3,
   "metadata": {},
   "outputs": [],
   "source": [
    "test_df = spark.read.format(\"csv\").option(\"header\", \"true\").load(\"gender_age_test.csv\")"
   ]
  },
  {
   "cell_type": "code",
   "execution_count": 4,
   "metadata": {},
   "outputs": [],
   "source": [
    "events_df = spark.read.format(\"csv\").option(\"header\", \"true\").load(\"events.csv\")"
   ]
  },
  {
   "cell_type": "code",
   "execution_count": 23,
   "metadata": {},
   "outputs": [
    {
     "data": {
      "text/plain": [
       "['device_id', 'gender', 'age', 'group']"
      ]
     },
     "execution_count": 23,
     "metadata": {},
     "output_type": "execute_result"
    }
   ],
   "source": [
    "train_df.columns"
   ]
  },
  {
   "cell_type": "code",
   "execution_count": 24,
   "metadata": {},
   "outputs": [
    {
     "data": {
      "text/plain": [
       "['device_id']"
      ]
     },
     "execution_count": 24,
     "metadata": {},
     "output_type": "execute_result"
    }
   ],
   "source": [
    "test_df.columns"
   ]
  },
  {
   "cell_type": "code",
   "execution_count": 5,
   "metadata": {},
   "outputs": [],
   "source": [
    "# train_test=pd.concat([train_df,test_df])\n",
    "\n",
    "# train_test=train_df.alias('a').join(test_df.alias('b'),fn.col('b.device_id')==fn.col('a.device_id')) \n",
    "# no same devices hence don't use\n",
    "\n",
    "train_test_df=train_df\n",
    "\n",
    "events_df=events_df.withColumnRenamed('device_id','tdevice_id')\n",
    "\n",
    "train_test_events_df=train_test_df.alias('a').join(events_df.alias('b'),fn.col('b.tdevice_id')==fn.col('a.device_id'))\n",
    "train_test_events_df=train_test_events_df.dropDuplicates()\n",
    "train_test_events_df=train_test_events_df.drop('tdevice_id')\n",
    "# train_test_events_df\n"
   ]
  },
  {
   "cell_type": "code",
   "execution_count": 49,
   "metadata": {},
   "outputs": [
    {
     "data": {
      "text/plain": [
       "[('device_id', 'string'),\n",
       " ('gender', 'string'),\n",
       " ('age', 'string'),\n",
       " ('group', 'string'),\n",
       " ('event_id', 'string'),\n",
       " ('timestamp', 'string'),\n",
       " ('longitude', 'string'),\n",
       " ('latitude', 'string')]"
      ]
     },
     "execution_count": 49,
     "metadata": {},
     "output_type": "execute_result"
    }
   ],
   "source": [
    "train_test_events_df.dtypes"
   ]
  },
  {
   "cell_type": "code",
   "execution_count": 6,
   "metadata": {},
   "outputs": [],
   "source": [
    "train_test_events_df=train_test_events_df.withColumn('time-stamp',to_timestamp('timestamp')).drop('timestamp').drop('timestamp')\n"
   ]
  },
  {
   "cell_type": "code",
   "execution_count": 27,
   "metadata": {},
   "outputs": [
    {
     "name": "stdout",
     "output_type": "stream",
     "text": [
      "+--------------------+------+---+------+--------+---------+--------+-------------------+\n",
      "|           device_id|gender|age| group|event_id|longitude|latitude|         time-stamp|\n",
      "+--------------------+------+---+------+--------+---------+--------+-------------------+\n",
      "| 6721639827938905415|     F| 22|  F23-|     553|   118.21|   33.49|2016-05-04 00:03:04|\n",
      "|-1053657946037918624|     F| 29|F29-32|     845|   120.53|   30.65|2016-05-06 00:45:20|\n",
      "|-8345274263736281074|     F| 44|  F43+|    1407|     0.00|    0.00|2016-05-04 01:46:49|\n",
      "|-6225748279665651076|     M| 44|  M39+|    1873|   120.46|   36.12|2016-05-04 02:12:13|\n",
      "|-3762561587120285467|     M| 65|  M39+|    1999|   121.54|   31.29|2016-05-05 02:54:35|\n",
      "| 3864672045456314600|     F| 29|F29-32|    2326|   113.19|   23.39|2016-05-04 03:08:04|\n",
      "| 8794177577630781257|     F| 46|  F43+|    3108|     0.00|    0.00|2016-05-02 05:28:13|\n",
      "| 8779095666317145799|     M| 33|M32-38|    3323|    82.90|   46.73|2016-05-05 05:22:04|\n",
      "|-6376534734805845559|     F| 29|F29-32|    3648|   116.39|   39.98|2016-05-01 06:50:14|\n",
      "|-1931466207586900273|     M| 53|  M39+|    3796|   108.33|   22.80|2016-05-02 06:37:48|\n",
      "| 1059108490518975017|     M| 29|M29-31|    3873|   104.74|   31.79|2016-05-03 06:06:54|\n",
      "|-8185367069923802291|     M| 41|  M39+|    5576|   117.93|   35.72|2016-05-05 07:52:20|\n",
      "|-1850177835986725854|     M| 22|  M22-|    5799|     0.00|    0.00|2016-05-06 07:46:29|\n",
      "|  768939518139136924|     F| 53|  F43+|    6309|     1.00|    1.00|2016-05-02 08:44:02|\n",
      "| 3261968592537767869|     M| 30|M29-31|    6480|   120.91|   30.43|2016-05-03 08:23:05|\n",
      "| 1015986268636467923|     M| 23|M23-26|    6486|   113.46|   31.68|2016-05-03 08:10:31|\n",
      "| 4916839392307543175|     F| 40|F33-42|    6870|   109.00|   34.25|2016-05-01 09:36:07|\n",
      "|-8031226918833297486|     M| 28|M27-28|    7748|   119.95|   31.64|2016-05-05 09:56:43|\n",
      "|  -18969145338053044|     M| 32|M32-38|    7806|    98.27|   39.81|2016-05-06 08:56:25|\n",
      "|-5235810561817459933|     M| 35|M32-38|   10459|     0.00|    0.00|2016-05-03 11:24:13|\n",
      "+--------------------+------+---+------+--------+---------+--------+-------------------+\n",
      "only showing top 20 rows\n",
      "\n"
     ]
    }
   ],
   "source": [
    "train_test_events_df.show()"
   ]
  },
  {
   "cell_type": "code",
   "execution_count": 7,
   "metadata": {},
   "outputs": [],
   "source": [
    "t=train_test_events_df.select('time-stamp')"
   ]
  },
  {
   "cell_type": "code",
   "execution_count": 8,
   "metadata": {},
   "outputs": [],
   "source": [
    "start=time.clock()"
   ]
  },
  {
   "cell_type": "code",
   "execution_count": 33,
   "metadata": {},
   "outputs": [
    {
     "name": "stdout",
     "output_type": "stream",
     "text": [
      "+--------------------+------+---+------+--------+---------+--------+-------------------+----+-----+---+\n",
      "|           device_id|gender|age| group|event_id|longitude|latitude|         time-stamp|year|month|day|\n",
      "+--------------------+------+---+------+--------+---------+--------+-------------------+----+-----+---+\n",
      "| 6721639827938905415|     F| 22|  F23-|     553|   118.21|   33.49|2016-05-04 00:03:04|2016|    5|  4|\n",
      "|-1053657946037918624|     F| 29|F29-32|     845|   120.53|   30.65|2016-05-06 00:45:20|2016|    5|  6|\n",
      "|-8345274263736281074|     F| 44|  F43+|    1407|     0.00|    0.00|2016-05-04 01:46:49|2016|    5|  4|\n",
      "|-6225748279665651076|     M| 44|  M39+|    1873|   120.46|   36.12|2016-05-04 02:12:13|2016|    5|  4|\n",
      "|-3762561587120285467|     M| 65|  M39+|    1999|   121.54|   31.29|2016-05-05 02:54:35|2016|    5|  5|\n",
      "| 3864672045456314600|     F| 29|F29-32|    2326|   113.19|   23.39|2016-05-04 03:08:04|2016|    5|  4|\n",
      "| 8794177577630781257|     F| 46|  F43+|    3108|     0.00|    0.00|2016-05-02 05:28:13|2016|    5|  2|\n",
      "| 8779095666317145799|     M| 33|M32-38|    3323|    82.90|   46.73|2016-05-05 05:22:04|2016|    5|  5|\n",
      "|-6376534734805845559|     F| 29|F29-32|    3648|   116.39|   39.98|2016-05-01 06:50:14|2016|    5|  1|\n",
      "|-1931466207586900273|     M| 53|  M39+|    3796|   108.33|   22.80|2016-05-02 06:37:48|2016|    5|  2|\n",
      "| 1059108490518975017|     M| 29|M29-31|    3873|   104.74|   31.79|2016-05-03 06:06:54|2016|    5|  3|\n",
      "|-8185367069923802291|     M| 41|  M39+|    5576|   117.93|   35.72|2016-05-05 07:52:20|2016|    5|  5|\n",
      "|-1850177835986725854|     M| 22|  M22-|    5799|     0.00|    0.00|2016-05-06 07:46:29|2016|    5|  6|\n",
      "|  768939518139136924|     F| 53|  F43+|    6309|     1.00|    1.00|2016-05-02 08:44:02|2016|    5|  2|\n",
      "| 3261968592537767869|     M| 30|M29-31|    6480|   120.91|   30.43|2016-05-03 08:23:05|2016|    5|  3|\n",
      "| 1015986268636467923|     M| 23|M23-26|    6486|   113.46|   31.68|2016-05-03 08:10:31|2016|    5|  3|\n",
      "| 4916839392307543175|     F| 40|F33-42|    6870|   109.00|   34.25|2016-05-01 09:36:07|2016|    5|  1|\n",
      "|-8031226918833297486|     M| 28|M27-28|    7748|   119.95|   31.64|2016-05-05 09:56:43|2016|    5|  5|\n",
      "|  -18969145338053044|     M| 32|M32-38|    7806|    98.27|   39.81|2016-05-06 08:56:25|2016|    5|  6|\n",
      "|-5235810561817459933|     M| 35|M32-38|   10459|     0.00|    0.00|2016-05-03 11:24:13|2016|    5|  3|\n",
      "+--------------------+------+---+------+--------+---------+--------+-------------------+----+-----+---+\n",
      "only showing top 20 rows\n",
      "\n"
     ]
    }
   ],
   "source": [
    "# hours=dates.dt.hour\n",
    "\n",
    "# fn.dayofmonth(train_test_events_df)\n",
    "\n",
    "# t.select(\n",
    "#     year('time-stamp'),\n",
    "#     month('time-stamp'),\n",
    "#     dayofmonth('time-stamp')\n",
    "# ).show()\n",
    "\n",
    "t=train_test_events_df.withColumn('year',year(fn.col('time-stamp'))).\\\n",
    "    withColumn('month',month(fn.col('time-stamp'))).\\\n",
    "    withColumn('day',dayofmonth(fn.col('time-stamp')))\n",
    "t.show()"
   ]
  },
  {
   "cell_type": "code",
   "execution_count": 30,
   "metadata": {},
   "outputs": [],
   "source": [
    "# p=train_test_events_df.join(t)"
   ]
  },
  {
   "cell_type": "code",
   "execution_count": 34,
   "metadata": {},
   "outputs": [],
   "source": [
    "# p.show()"
   ]
  },
  {
   "cell_type": "code",
   "execution_count": null,
   "metadata": {},
   "outputs": [],
   "source": []
  }
 ],
 "metadata": {
  "kernelspec": {
   "display_name": "Python 3",
   "language": "python",
   "name": "python3"
  },
  "language_info": {
   "codemirror_mode": {
    "name": "ipython",
    "version": 3
   },
   "file_extension": ".py",
   "mimetype": "text/x-python",
   "name": "python",
   "nbconvert_exporter": "python",
   "pygments_lexer": "ipython3",
   "version": "3.6.6"
  }
 },
 "nbformat": 4,
 "nbformat_minor": 2
}
