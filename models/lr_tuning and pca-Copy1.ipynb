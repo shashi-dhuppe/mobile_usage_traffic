{
 "cells": [
  {
   "cell_type": "code",
   "execution_count": 1,
   "metadata": {},
   "outputs": [],
   "source": [
    "import pyspark\n",
    "from pyspark.sql import SparkSession\n",
    "from pyspark.sql import SQLContext\n",
    "import pandas as pd\n",
    "import sys\n",
    "import os\n",
    "from pyspark.sql.functions import isnan, when, count, col\n",
    "from pyspark.sql.functions import to_timestamp\n",
    "import time\n",
    "from pyspark.sql import functions as fn\n",
    "from pyspark.ml import feature, regression, Pipeline\n",
    "\n",
    "import datetime\n",
    "from pyspark.sql.functions import year, month, dayofmonth, hour, minute, second\n",
    "from pyspark.mllib.stat import Statistics\n",
    "import pandas as pd\n",
    "\n",
    "import matplotlib.pyplot as plt\n",
    "import numpy as np\n",
    "\n",
    "from pyspark.ml.tuning import CrossValidator, ParamGridBuilder\n",
    "\n",
    "from pyspark.sql.types import FloatType\n",
    "from pyspark.sql.types import IntegerType\n",
    "\n",
    "spark = SparkSession.builder.appName('data-cleaning').\\\n",
    "                        config(\"spark.executor.instances\", '3').\\\n",
    "                        config(\"spark.executor.memory\", '40g').\\\n",
    "                        config('spark.executor.cores', '5').\\\n",
    "                        config('spark.cores.max', '5').appName('data_clean').\\\n",
    "                        getOrCreate()\n",
    "\n",
    "sqlContext = SQLContext(spark.sparkContext)\n",
    "\n",
    "from pyspark.ml import Pipeline\n",
    "from pyspark.ml import feature\n",
    "from pyspark.ml import classification\n",
    "from pyspark.ml.evaluation import BinaryClassificationEvaluator, MulticlassClassificationEvaluator, RegressionEvaluator"
   ]
  },
  {
   "cell_type": "code",
   "execution_count": 2,
   "metadata": {},
   "outputs": [],
   "source": [
    "train_data = spark.read.format('csv').option('header', 'true').load('../data/spark_data.csv')"
   ]
  },
  {
   "cell_type": "code",
   "execution_count": 3,
   "metadata": {},
   "outputs": [
    {
     "data": {
      "text/plain": [
       "134550"
      ]
     },
     "execution_count": 3,
     "metadata": {},
     "output_type": "execute_result"
    }
   ],
   "source": [
    "train_data.count()"
   ]
  },
  {
   "cell_type": "code",
   "execution_count": 4,
   "metadata": {},
   "outputs": [
    {
     "data": {
      "text/html": [
       "<div>\n",
       "<style scoped>\n",
       "    .dataframe tbody tr th:only-of-type {\n",
       "        vertical-align: middle;\n",
       "    }\n",
       "\n",
       "    .dataframe tbody tr th {\n",
       "        vertical-align: top;\n",
       "    }\n",
       "\n",
       "    .dataframe thead th {\n",
       "        text-align: right;\n",
       "    }\n",
       "</style>\n",
       "<table border=\"1\" class=\"dataframe\">\n",
       "  <thead>\n",
       "    <tr style=\"text-align: right;\">\n",
       "      <th></th>\n",
       "      <th>device_id</th>\n",
       "      <th>label_id</th>\n",
       "      <th>app_id</th>\n",
       "      <th>event_id</th>\n",
       "      <th>longitude</th>\n",
       "      <th>latitude</th>\n",
       "      <th>is_installed</th>\n",
       "      <th>is_active</th>\n",
       "      <th>device_model</th>\n",
       "      <th>phone_brand</th>\n",
       "      <th>...</th>\n",
       "      <th>country</th>\n",
       "      <th>category_mapped</th>\n",
       "      <th>year</th>\n",
       "      <th>month</th>\n",
       "      <th>day</th>\n",
       "      <th>hour</th>\n",
       "      <th>minute</th>\n",
       "      <th>seconds</th>\n",
       "      <th>time_of_day</th>\n",
       "      <th>age_group</th>\n",
       "    </tr>\n",
       "  </thead>\n",
       "  <tbody>\n",
       "    <tr>\n",
       "      <th>0</th>\n",
       "      <td>-4968154927622705128</td>\n",
       "      <td>713</td>\n",
       "      <td>-145658454112781034</td>\n",
       "      <td>4633</td>\n",
       "      <td>116.38</td>\n",
       "      <td>39.96</td>\n",
       "      <td>1</td>\n",
       "      <td>0</td>\n",
       "      <td>荣耀6 Plus</td>\n",
       "      <td>Huawei</td>\n",
       "      <td>...</td>\n",
       "      <td>China</td>\n",
       "      <td>industry</td>\n",
       "      <td>2016</td>\n",
       "      <td>5</td>\n",
       "      <td>1</td>\n",
       "      <td>7</td>\n",
       "      <td>48</td>\n",
       "      <td>6</td>\n",
       "      <td>morning</td>\n",
       "      <td>50-59</td>\n",
       "    </tr>\n",
       "    <tr>\n",
       "      <th>1</th>\n",
       "      <td>-4968154927622705128</td>\n",
       "      <td>704</td>\n",
       "      <td>-145658454112781034</td>\n",
       "      <td>4633</td>\n",
       "      <td>116.38</td>\n",
       "      <td>39.96</td>\n",
       "      <td>1</td>\n",
       "      <td>0</td>\n",
       "      <td>荣耀6 Plus</td>\n",
       "      <td>Huawei</td>\n",
       "      <td>...</td>\n",
       "      <td>China</td>\n",
       "      <td>industry</td>\n",
       "      <td>2016</td>\n",
       "      <td>5</td>\n",
       "      <td>1</td>\n",
       "      <td>7</td>\n",
       "      <td>48</td>\n",
       "      <td>6</td>\n",
       "      <td>morning</td>\n",
       "      <td>50-59</td>\n",
       "    </tr>\n",
       "    <tr>\n",
       "      <th>2</th>\n",
       "      <td>-4968154927622705128</td>\n",
       "      <td>548</td>\n",
       "      <td>-145658454112781034</td>\n",
       "      <td>4633</td>\n",
       "      <td>116.38</td>\n",
       "      <td>39.96</td>\n",
       "      <td>1</td>\n",
       "      <td>0</td>\n",
       "      <td>荣耀6 Plus</td>\n",
       "      <td>Huawei</td>\n",
       "      <td>...</td>\n",
       "      <td>China</td>\n",
       "      <td>industry</td>\n",
       "      <td>2016</td>\n",
       "      <td>5</td>\n",
       "      <td>1</td>\n",
       "      <td>7</td>\n",
       "      <td>48</td>\n",
       "      <td>6</td>\n",
       "      <td>morning</td>\n",
       "      <td>50-59</td>\n",
       "    </tr>\n",
       "  </tbody>\n",
       "</table>\n",
       "<p>3 rows × 26 columns</p>\n",
       "</div>"
      ],
      "text/plain": [
       "              device_id label_id               app_id event_id longitude  \\\n",
       "0  -4968154927622705128      713  -145658454112781034     4633    116.38   \n",
       "1  -4968154927622705128      704  -145658454112781034     4633    116.38   \n",
       "2  -4968154927622705128      548  -145658454112781034     4633    116.38   \n",
       "\n",
       "  latitude is_installed is_active device_model phone_brand    ...    country  \\\n",
       "0    39.96            1         0     荣耀6 Plus      Huawei    ...      China   \n",
       "1    39.96            1         0     荣耀6 Plus      Huawei    ...      China   \n",
       "2    39.96            1         0     荣耀6 Plus      Huawei    ...      China   \n",
       "\n",
       "  category_mapped  year month day hour minute seconds time_of_day age_group  \n",
       "0        industry  2016     5   1    7     48       6     morning     50-59  \n",
       "1        industry  2016     5   1    7     48       6     morning     50-59  \n",
       "2        industry  2016     5   1    7     48       6     morning     50-59  \n",
       "\n",
       "[3 rows x 26 columns]"
      ]
     },
     "execution_count": 4,
     "metadata": {},
     "output_type": "execute_result"
    }
   ],
   "source": [
    "train_data.limit(3).toPandas()"
   ]
  },
  {
   "cell_type": "code",
   "execution_count": 5,
   "metadata": {},
   "outputs": [],
   "source": [
    "#train_data.select('town').distinct().collect()"
   ]
  },
  {
   "cell_type": "code",
   "execution_count": 6,
   "metadata": {},
   "outputs": [],
   "source": [
    "training, validation, test = train_data.randomSplit([0.7, 0.2, 0.1], )"
   ]
  },
  {
   "cell_type": "code",
   "execution_count": 7,
   "metadata": {},
   "outputs": [],
   "source": [
    "float_columns = ['device_id', 'app_id', 'label_id', 'event_id', 'longitude', 'latitude']\n",
    "int_columns = ['is_active', 'age', 'is_installed', 'day', 'hour', 'minute', 'seconds']\n",
    "string_columns = ['gender', 'phone_brand', 'device_model', 'town', 'country', 'category_mapped', 'time_of_day', 'age_group']\n",
    "\n",
    "training = training.select(*(col(c).cast(\"float\").alias(c) for c in float_columns), \\\n",
    "                                                 *(col(c).cast(\"int\").alias(c) for c in int_columns), \\\n",
    "                                                 *(col(c).alias(c) for c in string_columns))\n",
    "\n",
    "validation = validation.select(*(col(c).cast(\"float\").alias(c) for c in float_columns), \\\n",
    "                                                 *(col(c).cast(\"int\").alias(c) for c in int_columns), \\\n",
    "                                                 *(col(c).alias(c) for c in string_columns))\n",
    "\n",
    "test = test.select(*(col(c).cast(\"float\").alias(c) for c in float_columns), \\\n",
    "                                                 *(col(c).cast(\"int\").alias(c) for c in int_columns), \\\n",
    "                                                 *(col(c).alias(c) for c in string_columns))"
   ]
  },
  {
   "cell_type": "code",
   "execution_count": 8,
   "metadata": {},
   "outputs": [
    {
     "data": {
      "text/plain": [
       "94112"
      ]
     },
     "execution_count": 8,
     "metadata": {},
     "output_type": "execute_result"
    }
   ],
   "source": [
    "training.count()"
   ]
  },
  {
   "cell_type": "code",
   "execution_count": 9,
   "metadata": {},
   "outputs": [
    {
     "data": {
      "text/plain": [
       "13590"
      ]
     },
     "execution_count": 9,
     "metadata": {},
     "output_type": "execute_result"
    }
   ],
   "source": [
    "test.count()"
   ]
  },
  {
   "cell_type": "code",
   "execution_count": 10,
   "metadata": {},
   "outputs": [],
   "source": [
    "# #PCA for town\n",
    "\n",
    "# gender_indexer = feature.StringIndexer(inputCol=\"gender\", outputCol=\"gender_label\",handleInvalid='skip')\n",
    "# category_indexer = feature.StringIndexer(inputCol='category_mapped', outputCol='category_encoded',handleInvalid='skip')\n",
    "# phone_brand_indexer = feature.StringIndexer(inputCol='phone_brand', outputCol='phone_brand_encoded',handleInvalid='skip')\n",
    "# is_active_indexer = feature.StringIndexer(inputCol='is_active', outputCol='is_active_encoded',handleInvalid='skip')\n",
    "# device_model_indexer = feature.StringIndexer(inputCol='device_model', outputCol='device_model_encoded',handleInvalid='skip')\n",
    "# town_indexer = feature.StringIndexer(inputCol='town', outputCol='town_encoded',handleInvalid='skip')\n",
    "# country_indexer = feature.StringIndexer(inputCol='country', outputCol='country_encoded',handleInvalid='skip')\n",
    "# time_of_day_indexer = feature.StringIndexer(inputCol='time_of_day', outputCol='time_of_day_encoded',handleInvalid='skip')\n",
    "# age_group_indexer = feature.StringIndexer(inputCol='age_group', outputCol='age_group_encoded',handleInvalid='skip')\n",
    "# #area_cluster_id_indexer = feature.StringIndexer(inputCol='area_cluster_id', outputCol='area_cluster_id_encoded',handleInvalid='skip')\n",
    "\n",
    "# vector_assembler = feature.VectorAssembler(inputCols=['device_id', 'app_id', 'label_id', 'event_id', 'is_active',\\\n",
    "#                                                       'device_model_encoded', 'phone_brand_encoded', 'gender_label', 'country_encoded',\\\n",
    "#                                                       'time_of_day_encoded', 'age_group_encoded', 'category_encoded'],\n",
    "#                                         outputCol='features')\n",
    "# sc = feature.StandardScaler(inputCol='features',outputCol='sfeatures')\n",
    "\n",
    "# evaluator = BinaryClassificationEvaluator(labelCol='gender_label')\n",
    "\n",
    "# pipe_prep_location=Pipeline(stages=[gender_indexer, category_indexer,phone_brand_indexer, is_active_indexer, device_model_indexer,\\\n",
    "#                            town_indexer, country_indexer, time_of_day_indexer, age_group_indexer, \\\n",
    "#                            vector_assembler, sc])"
   ]
  },
  {
   "cell_type": "code",
   "execution_count": 11,
   "metadata": {},
   "outputs": [],
   "source": [
    "# from pyspark.ml.clustering import KMeans\n",
    "\n",
    "# # df_kmeans.show()\n",
    "# df_kmeans = pipe_prep_location.fit(training).transform(training)\n",
    "# cost = np.zeros(30)\n",
    "# for k in range(2,30):\n",
    "#     kmeans = KMeans().setK(k).setSeed(1).setFeaturesCol(\"sfeatures\")\n",
    "#     model = kmeans.fit(df_kmeans.sample(False,0.1, seed=42))\n",
    "#     cost[k] = model.computeCost(df_kmeans) # requires Spark 2.0 or later\n",
    "    \n",
    "# fig, ax = plt.subplots(1,1, figsize =(8,6))\n",
    "# ax.plot(range(2,30),cost[2:30])\n",
    "# ax.set_xlabel('k')\n",
    "# ax.set_ylabel('cost')"
   ]
  },
  {
   "cell_type": "code",
   "execution_count": 12,
   "metadata": {},
   "outputs": [],
   "source": [
    "# from pyspark.ml.clustering import KMeans\n",
    "# k = 30\n",
    "# df_kmeans = pipe_prep_location.fit(train_data).transform(train_data)\n",
    "# kmeans = KMeans().setK(k).setSeed(1).setFeaturesCol(\"sfeatures\")\n",
    "# model = kmeans.fit(df_kmeans)\n",
    "# centers = model.clusterCenters()\n",
    "\n",
    "# print(\"Cluster Centers: \")\n",
    "# for center in centers:\n",
    "#     print(center)\n",
    "\n",
    "# new_data = model.transform(df_kmeans)"
   ]
  },
  {
   "cell_type": "code",
   "execution_count": 13,
   "metadata": {},
   "outputs": [],
   "source": [
    "# Gender Pipeline\n",
    "gender_indexer = feature.StringIndexer(inputCol=\"gender\", outputCol=\"gender_label\",handleInvalid='skip')\n",
    "category_indexer = feature.StringIndexer(inputCol='category_mapped', outputCol='category_encoded',handleInvalid='skip')\n",
    "phone_brand_indexer = feature.StringIndexer(inputCol='phone_brand', outputCol='phone_brand_encoded',handleInvalid='skip')\n",
    "is_active_indexer = feature.StringIndexer(inputCol='is_active', outputCol='is_active_encoded',handleInvalid='skip')\n",
    "device_model_indexer = feature.StringIndexer(inputCol='device_model', outputCol='device_model_encoded',handleInvalid='skip')\n",
    "town_indexer = feature.StringIndexer(inputCol='town', outputCol='town_encoded',handleInvalid='skip')\n",
    "country_indexer = feature.StringIndexer(inputCol='country', outputCol='country_encoded',handleInvalid='skip')\n",
    "time_of_day_indexer = feature.StringIndexer(inputCol='time_of_day', outputCol='time_of_day_encoded',handleInvalid='skip')\n",
    "age_group_indexer = feature.StringIndexer(inputCol='age_group', outputCol='age_group_encoded',handleInvalid='skip')\n",
    "#area_cluster_id_indexer = feature.StringIndexer(inputCol='area_cluster_id', outputCol='area_cluster_id_encoded',handleInvalid='skip')\n",
    "\n",
    "vector_assembler = feature.VectorAssembler(inputCols=['device_id', 'app_id', 'label_id', 'event_id', 'is_active',\\\n",
    "                                                      'device_model_encoded', 'phone_brand_encoded', 'town_encoded', 'country_encoded',\\\n",
    "                                                      'time_of_day_encoded', 'age_group_encoded', 'category_encoded'],\n",
    "                                        outputCol='features')\n",
    "sc = feature.StandardScaler(inputCol='features',outputCol='sfeatures')\n",
    "\n",
    "evaluator = BinaryClassificationEvaluator(labelCol='gender_label')\n",
    "\n",
    "pipe_prep=Pipeline(stages=[gender_indexer, category_indexer,phone_brand_indexer, is_active_indexer, device_model_indexer,\\\n",
    "                           town_indexer, country_indexer, time_of_day_indexer, age_group_indexer, \\\n",
    "                           vector_assembler, sc])"
   ]
  },
  {
   "cell_type": "code",
   "execution_count": 15,
   "metadata": {},
   "outputs": [],
   "source": [
    "pca=feature.PCA(k=2, inputCol='sfeatures', outputCol='pfeat')\n",
    "\n",
    "pipe_pca=Pipeline(stages=[pipe_prep,pca]).fit(training)\n",
    "\n",
    "pca_mod=pipe_pca.transform(training)\n",
    "\n",
    "feat=train_data.columns\n",
    "actfeat=['device_id', 'app_id', 'label_id', 'event_id', 'is_active',\\\n",
    "                                                      'device_model_encoded', 'phone_brand_encoded', 'town_encoded', 'country_encoded',\\\n",
    "                                                      'time_of_day_encoded', 'age_group_encoded', 'category_encoded']\n",
    "\n",
    "# feat\n",
    "\n",
    "# actfeat=pca_mod.columns\n",
    "\n",
    "pca=pipe_pca.stages[1].pc.toArray()\n",
    "\n",
    "pc1_df=pd.DataFrame([pca[:, 0],actfeat]).T.rename(columns={0:'pc1',1:'abs_loadings'})\n",
    "pc2_df=pd.DataFrame([pca[:, 1],actfeat]).T.rename(columns={0:'pc2',1:'abs_loadings'})"
   ]
  },
  {
   "cell_type": "code",
   "execution_count": 16,
   "metadata": {},
   "outputs": [
    {
     "data": {
      "text/html": [
       "<div>\n",
       "<style scoped>\n",
       "    .dataframe tbody tr th:only-of-type {\n",
       "        vertical-align: middle;\n",
       "    }\n",
       "\n",
       "    .dataframe tbody tr th {\n",
       "        vertical-align: top;\n",
       "    }\n",
       "\n",
       "    .dataframe thead th {\n",
       "        text-align: right;\n",
       "    }\n",
       "</style>\n",
       "<table border=\"1\" class=\"dataframe\">\n",
       "  <thead>\n",
       "    <tr style=\"text-align: right;\">\n",
       "      <th></th>\n",
       "      <th>pc1</th>\n",
       "      <th>abs_loadings</th>\n",
       "    </tr>\n",
       "  </thead>\n",
       "  <tbody>\n",
       "    <tr>\n",
       "      <th>6</th>\n",
       "      <td>0.676663</td>\n",
       "      <td>phone_brand_encoded</td>\n",
       "    </tr>\n",
       "    <tr>\n",
       "      <th>5</th>\n",
       "      <td>0.672438</td>\n",
       "      <td>device_model_encoded</td>\n",
       "    </tr>\n",
       "    <tr>\n",
       "      <th>4</th>\n",
       "      <td>0.158737</td>\n",
       "      <td>is_active</td>\n",
       "    </tr>\n",
       "    <tr>\n",
       "      <th>10</th>\n",
       "      <td>0.139035</td>\n",
       "      <td>age_group_encoded</td>\n",
       "    </tr>\n",
       "    <tr>\n",
       "      <th>8</th>\n",
       "      <td>0.137553</td>\n",
       "      <td>country_encoded</td>\n",
       "    </tr>\n",
       "    <tr>\n",
       "      <th>7</th>\n",
       "      <td>0.136761</td>\n",
       "      <td>town_encoded</td>\n",
       "    </tr>\n",
       "    <tr>\n",
       "      <th>0</th>\n",
       "      <td>0.0791164</td>\n",
       "      <td>device_id</td>\n",
       "    </tr>\n",
       "    <tr>\n",
       "      <th>2</th>\n",
       "      <td>0.0255724</td>\n",
       "      <td>label_id</td>\n",
       "    </tr>\n",
       "    <tr>\n",
       "      <th>1</th>\n",
       "      <td>0.019296</td>\n",
       "      <td>app_id</td>\n",
       "    </tr>\n",
       "    <tr>\n",
       "      <th>9</th>\n",
       "      <td>0.0177871</td>\n",
       "      <td>time_of_day_encoded</td>\n",
       "    </tr>\n",
       "    <tr>\n",
       "      <th>11</th>\n",
       "      <td>0.0108317</td>\n",
       "      <td>category_encoded</td>\n",
       "    </tr>\n",
       "    <tr>\n",
       "      <th>3</th>\n",
       "      <td>0.00911016</td>\n",
       "      <td>event_id</td>\n",
       "    </tr>\n",
       "  </tbody>\n",
       "</table>\n",
       "</div>"
      ],
      "text/plain": [
       "           pc1          abs_loadings\n",
       "6     0.676663   phone_brand_encoded\n",
       "5     0.672438  device_model_encoded\n",
       "4     0.158737             is_active\n",
       "10    0.139035     age_group_encoded\n",
       "8     0.137553       country_encoded\n",
       "7     0.136761          town_encoded\n",
       "0    0.0791164             device_id\n",
       "2    0.0255724              label_id\n",
       "1     0.019296                app_id\n",
       "9    0.0177871   time_of_day_encoded\n",
       "11   0.0108317      category_encoded\n",
       "3   0.00911016              event_id"
      ]
     },
     "execution_count": 16,
     "metadata": {},
     "output_type": "execute_result"
    }
   ],
   "source": [
    "pc1_df.pc1=pc1_df.pc1.abs()\n",
    "\n",
    "pc1_df.sort_values(by=['pc1'],ascending=False)"
   ]
  },
  {
   "cell_type": "code",
   "execution_count": 17,
   "metadata": {},
   "outputs": [
    {
     "data": {
      "text/html": [
       "<div>\n",
       "<style scoped>\n",
       "    .dataframe tbody tr th:only-of-type {\n",
       "        vertical-align: middle;\n",
       "    }\n",
       "\n",
       "    .dataframe tbody tr th {\n",
       "        vertical-align: top;\n",
       "    }\n",
       "\n",
       "    .dataframe thead th {\n",
       "        text-align: right;\n",
       "    }\n",
       "</style>\n",
       "<table border=\"1\" class=\"dataframe\">\n",
       "  <thead>\n",
       "    <tr style=\"text-align: right;\">\n",
       "      <th></th>\n",
       "      <th>pc2</th>\n",
       "      <th>abs_loadings</th>\n",
       "    </tr>\n",
       "  </thead>\n",
       "  <tbody>\n",
       "    <tr>\n",
       "      <th>2</th>\n",
       "      <td>0.702175</td>\n",
       "      <td>label_id</td>\n",
       "    </tr>\n",
       "    <tr>\n",
       "      <th>11</th>\n",
       "      <td>0.695731</td>\n",
       "      <td>category_encoded</td>\n",
       "    </tr>\n",
       "    <tr>\n",
       "      <th>4</th>\n",
       "      <td>0.102412</td>\n",
       "      <td>is_active</td>\n",
       "    </tr>\n",
       "    <tr>\n",
       "      <th>7</th>\n",
       "      <td>0.0774573</td>\n",
       "      <td>town_encoded</td>\n",
       "    </tr>\n",
       "    <tr>\n",
       "      <th>8</th>\n",
       "      <td>0.0422804</td>\n",
       "      <td>country_encoded</td>\n",
       "    </tr>\n",
       "    <tr>\n",
       "      <th>5</th>\n",
       "      <td>0.036981</td>\n",
       "      <td>device_model_encoded</td>\n",
       "    </tr>\n",
       "    <tr>\n",
       "      <th>6</th>\n",
       "      <td>0.0362049</td>\n",
       "      <td>phone_brand_encoded</td>\n",
       "    </tr>\n",
       "    <tr>\n",
       "      <th>1</th>\n",
       "      <td>0.0271888</td>\n",
       "      <td>app_id</td>\n",
       "    </tr>\n",
       "    <tr>\n",
       "      <th>10</th>\n",
       "      <td>0.0204302</td>\n",
       "      <td>age_group_encoded</td>\n",
       "    </tr>\n",
       "    <tr>\n",
       "      <th>9</th>\n",
       "      <td>0.0199483</td>\n",
       "      <td>time_of_day_encoded</td>\n",
       "    </tr>\n",
       "    <tr>\n",
       "      <th>3</th>\n",
       "      <td>0.017835</td>\n",
       "      <td>event_id</td>\n",
       "    </tr>\n",
       "    <tr>\n",
       "      <th>0</th>\n",
       "      <td>0.00907067</td>\n",
       "      <td>device_id</td>\n",
       "    </tr>\n",
       "  </tbody>\n",
       "</table>\n",
       "</div>"
      ],
      "text/plain": [
       "           pc2          abs_loadings\n",
       "2     0.702175              label_id\n",
       "11    0.695731      category_encoded\n",
       "4     0.102412             is_active\n",
       "7    0.0774573          town_encoded\n",
       "8    0.0422804       country_encoded\n",
       "5     0.036981  device_model_encoded\n",
       "6    0.0362049   phone_brand_encoded\n",
       "1    0.0271888                app_id\n",
       "10   0.0204302     age_group_encoded\n",
       "9    0.0199483   time_of_day_encoded\n",
       "3     0.017835              event_id\n",
       "0   0.00907067             device_id"
      ]
     },
     "execution_count": 17,
     "metadata": {},
     "output_type": "execute_result"
    }
   ],
   "source": [
    "pc2_df.pc2=pc2_df.pc2.abs()\n",
    "\n",
    "pc2_df.sort_values(by=['pc2'],ascending=False)"
   ]
  },
  {
   "cell_type": "code",
   "execution_count": 15,
   "metadata": {},
   "outputs": [
    {
     "data": {
      "text/plain": [
       "0.6125656388570954"
      ]
     },
     "execution_count": 15,
     "metadata": {},
     "output_type": "execute_result"
    }
   ],
   "source": [
    "# logistic with default or no parameters\n",
    "\n",
    "logistic = classification.LogisticRegression(labelCol='gender_label', featuresCol='sfeatures')\n",
    "\n",
    "lr_pipe = Pipeline(stages=[pipe_prep, logistic]).fit(training)\n",
    "\n",
    "result1=evaluator.evaluate(lr_pipe.transform(test))\n",
    "\n",
    "result1"
   ]
  },
  {
   "cell_type": "code",
   "execution_count": 17,
   "metadata": {},
   "outputs": [],
   "source": [
    "from pyspark.ml.regression import RandomForestRegressor\n",
    "from pyspark.ml.tuning import CrossValidator, ParamGridBuilder\n",
    "from pyspark.ml.evaluation import RegressionEvaluator\n",
    "\n",
    "lr_pipe = Pipeline(stages=[pipe_prep, logistic])\n",
    "\n",
    "lr_param = ParamGridBuilder() \\\n",
    "    .addGrid(logistic.elasticNetParam, [0.0, 0.5, 1.0]) \\\n",
    "    .addGrid(logistic.regParam, [0.1, 0.01]) \\\n",
    "    .build()\n",
    "\n",
    "evaluator = BinaryClassificationEvaluator(labelCol=\"gender_label\", metricName='areaUnderROC')\n",
    "#evaluator = RegressionEvaluator(labelCol=\"town_encoded\", predictionCol=\"prediction\", metricName=\"r2\")\n",
    "#evaluator = MulticlassClassificationEvaluator(labelCol = 'town_encoded', predictionCol='prediction', metricName = 'accuracy')\n",
    "crossval = CrossValidator(estimator=lr_pipe,\n",
    "                         estimatorParamMaps=lr_param,\n",
    "                         evaluator=evaluator,\n",
    "                         numFolds=3)\n",
    "\n",
    "cvmodel = crossval.fit(training)"
   ]
  },
  {
   "cell_type": "code",
   "execution_count": 18,
   "metadata": {},
   "outputs": [
    {
     "data": {
      "text/plain": [
       "{Param(parent='LogisticRegression_9c5bbcc6713a', name='aggregationDepth', doc='suggested depth for treeAggregate (>= 2)'): 2,\n",
       " Param(parent='LogisticRegression_9c5bbcc6713a', name='elasticNetParam', doc='the ElasticNet mixing parameter, in range [0, 1]. For alpha = 0, the penalty is an L2 penalty. For alpha = 1, it is an L1 penalty'): 0.0,\n",
       " Param(parent='LogisticRegression_9c5bbcc6713a', name='family', doc='The name of family which is a description of the label distribution to be used in the model. Supported options: auto, binomial, multinomial.'): 'auto',\n",
       " Param(parent='LogisticRegression_9c5bbcc6713a', name='featuresCol', doc='features column name'): 'sfeatures',\n",
       " Param(parent='LogisticRegression_9c5bbcc6713a', name='fitIntercept', doc='whether to fit an intercept term'): True,\n",
       " Param(parent='LogisticRegression_9c5bbcc6713a', name='labelCol', doc='label column name'): 'gender_label',\n",
       " Param(parent='LogisticRegression_9c5bbcc6713a', name='maxIter', doc='maximum number of iterations (>= 0)'): 100,\n",
       " Param(parent='LogisticRegression_9c5bbcc6713a', name='predictionCol', doc='prediction column name'): 'prediction',\n",
       " Param(parent='LogisticRegression_9c5bbcc6713a', name='probabilityCol', doc='Column name for predicted class conditional probabilities. Note: Not all models output well-calibrated probability estimates! These probabilities should be treated as confidences, not precise probabilities'): 'probability',\n",
       " Param(parent='LogisticRegression_9c5bbcc6713a', name='rawPredictionCol', doc='raw prediction (a.k.a. confidence) column name'): 'rawPrediction',\n",
       " Param(parent='LogisticRegression_9c5bbcc6713a', name='regParam', doc='regularization parameter (>= 0)'): 0.01,\n",
       " Param(parent='LogisticRegression_9c5bbcc6713a', name='standardization', doc='whether to standardize the training features before fitting the model'): True,\n",
       " Param(parent='LogisticRegression_9c5bbcc6713a', name='threshold', doc='threshold in binary classification prediction, in range [0, 1]'): 0.5,\n",
       " Param(parent='LogisticRegression_9c5bbcc6713a', name='tol', doc='the convergence tolerance for iterative algorithms (>= 0)'): 1e-06}"
      ]
     },
     "execution_count": 18,
     "metadata": {},
     "output_type": "execute_result"
    }
   ],
   "source": [
    "cvmodel.bestModel.stages[-1].extractParamMap()"
   ]
  },
  {
   "cell_type": "code",
   "execution_count": 21,
   "metadata": {},
   "outputs": [
    {
     "data": {
      "text/plain": [
       "0.7052006356708198"
      ]
     },
     "execution_count": 21,
     "metadata": {},
     "output_type": "execute_result"
    }
   ],
   "source": [
    "# RF\n",
    "\n",
    "rf=classification.RandomForestClassifier(labelCol='gender_label', featuresCol='sfeatures')\n",
    "\n",
    "rf_pipe=Pipeline(stages=[pipe_prep,rf]).fit(training)\n",
    "\n",
    "evaluator = BinaryClassificationEvaluator(labelCol = 'gender_label', metricName ='areaUnderROC')\n",
    "\n",
    "resultrf4=evaluator.evaluate(rf_pipe.transform(validation))\n",
    "\n",
    "resultrf4"
   ]
  },
  {
   "cell_type": "code",
   "execution_count": 23,
   "metadata": {},
   "outputs": [
    {
     "name": "stderr",
     "output_type": "stream",
     "text": [
      "Exception ignored in: <object repr() failed>\n",
      "Traceback (most recent call last):\n",
      "  File \"/usr/local/spark/python/pyspark/ml/wrapper.py\", line 40, in __del__\n",
      "    if SparkContext._active_spark_context and self._java_obj is not None:\n",
      "AttributeError: 'BinaryClassificationEvaluator' object has no attribute '_java_obj'\n"
     ]
    },
    {
     "data": {
      "text/plain": [
       "{Param(parent='RandomForestClassifier_ae718e4257e0', name='cacheNodeIds', doc='If false, the algorithm will pass trees to executors to match instances with nodes. If true, the algorithm will cache node IDs for each instance. Caching can speed up training of deeper trees.'): False,\n",
       " Param(parent='RandomForestClassifier_ae718e4257e0', name='checkpointInterval', doc='set checkpoint interval (>= 1) or disable checkpoint (-1). E.g. 10 means that the cache will get checkpointed every 10 iterations. Note: this setting will be ignored if the checkpoint directory is not set in the SparkContext'): 10,\n",
       " Param(parent='RandomForestClassifier_ae718e4257e0', name='featureSubsetStrategy', doc='The number of features to consider for splits at each tree node. Supported options: auto, all, onethird, sqrt, log2, (0.0-1.0], [1-n].'): 'auto',\n",
       " Param(parent='RandomForestClassifier_ae718e4257e0', name='featuresCol', doc='features column name'): 'sfeatures',\n",
       " Param(parent='RandomForestClassifier_ae718e4257e0', name='impurity', doc='Criterion used for information gain calculation (case-insensitive). Supported options: entropy, gini'): 'gini',\n",
       " Param(parent='RandomForestClassifier_ae718e4257e0', name='labelCol', doc='label column name'): 'gender_label',\n",
       " Param(parent='RandomForestClassifier_ae718e4257e0', name='maxBins', doc='Max number of bins for discretizing continuous features.  Must be >=2 and >= number of categories for any categorical feature.'): 20,\n",
       " Param(parent='RandomForestClassifier_ae718e4257e0', name='maxDepth', doc='Maximum depth of the tree. (>= 0) E.g., depth 0 means 1 leaf node; depth 1 means 1 internal node + 2 leaf nodes.'): 10,\n",
       " Param(parent='RandomForestClassifier_ae718e4257e0', name='maxMemoryInMB', doc='Maximum memory in MB allocated to histogram aggregation.'): 256,\n",
       " Param(parent='RandomForestClassifier_ae718e4257e0', name='minInfoGain', doc='Minimum information gain for a split to be considered at a tree node.'): 0.0,\n",
       " Param(parent='RandomForestClassifier_ae718e4257e0', name='minInstancesPerNode', doc='Minimum number of instances each child must have after split.  If a split causes the left or right child to have fewer than minInstancesPerNode, the split will be discarded as invalid. Should be >= 1.'): 1,\n",
       " Param(parent='RandomForestClassifier_ae718e4257e0', name='numTrees', doc='Number of trees to train (>= 1)'): 20,\n",
       " Param(parent='RandomForestClassifier_ae718e4257e0', name='predictionCol', doc='prediction column name'): 'prediction',\n",
       " Param(parent='RandomForestClassifier_ae718e4257e0', name='probabilityCol', doc='Column name for predicted class conditional probabilities. Note: Not all models output well-calibrated probability estimates! These probabilities should be treated as confidences, not precise probabilities'): 'probability',\n",
       " Param(parent='RandomForestClassifier_ae718e4257e0', name='rawPredictionCol', doc='raw prediction (a.k.a. confidence) column name'): 'rawPrediction',\n",
       " Param(parent='RandomForestClassifier_ae718e4257e0', name='seed', doc='random seed'): -2227460292771365959,\n",
       " Param(parent='RandomForestClassifier_ae718e4257e0', name='subsamplingRate', doc='Fraction of the training data used for learning each decision tree, in range (0, 1].'): 1.0}"
      ]
     },
     "execution_count": 23,
     "metadata": {},
     "output_type": "execute_result"
    }
   ],
   "source": [
    "from pyspark.ml.regression import RandomForestRegressor\n",
    "from pyspark.ml.tuning import CrossValidator, ParamGridBuilder\n",
    "from pyspark.ml.evaluation import RegressionEvaluator\n",
    "\n",
    "rf_pipe=Pipeline(stages=[pipe_prep,rf])\n",
    "\n",
    "rfParam = ParamGridBuilder() \\\n",
    ".addGrid(rf.maxDepth, [4, 6, 8, 10]) \\\n",
    ".addGrid(rf.maxBins, [5, 10, 20]) \\\n",
    ".addGrid(rf.impurity, [\"gini\"]) \\\n",
    ".build()\n",
    "\n",
    "# gbtParam = (ParamGridBuilder()\n",
    "#              .addGrid(gbt.maxDepth, [4, 6, 8, 10])\n",
    "#              .addGrid(gbt.maxBins, [5, 10, 20, 40])\n",
    "#              .addGrid(gbt.maxIter, [5, 10, 15])\n",
    "#              .build())\n",
    "\n",
    "evaluator = BinaryClassificationEvaluator(labelCol=\"gender_label\", metricName='areaUnderROC')\n",
    "#evaluator = RegressionEvaluator(labelCol=\"town_encoded\", predictionCol=\"prediction\", metricName=\"r2\")\n",
    "#evaluator = MulticlassClassificationEvaluator(labelCol = 'town_encoded', predictionCol='prediction', metricName = 'accuracy')\n",
    "crossval = CrossValidator(estimator=rf_pipe,\n",
    "                         estimatorParamMaps=rfParam,\n",
    "                         evaluator=evaluator,\n",
    "                         numFolds=3)\n",
    "\n",
    "#cv = CrossValidator(estimator=random_forest_pipeline, estimatorParamMaps=paramGrid, evaluator=evaluator, numFolds=5)\n",
    "cvmodel = crossval.fit(validation)\n",
    "cvmodel.bestModel.stages[-1].extractParamMap()"
   ]
  },
  {
   "cell_type": "code",
   "execution_count": 25,
   "metadata": {},
   "outputs": [
    {
     "data": {
      "text/plain": [
       "0.9156857909876827"
      ]
     },
     "execution_count": 25,
     "metadata": {},
     "output_type": "execute_result"
    }
   ],
   "source": [
    "# RF\n",
    "\n",
    "rf=classification.RandomForestClassifier(labelCol='gender_label', featuresCol='sfeatures', \\\n",
    "                                         maxDepth=10, maxBins=20, numTrees=20)\n",
    "\n",
    "rf_pipe=Pipeline(stages=[pipe_prep,rf]).fit(training)\n",
    "\n",
    "evaluator = BinaryClassificationEvaluator(labelCol=\"gender_label\", metricName='areaUnderROC')\n",
    "\n",
    "resultrf4=evaluator.evaluate(rf_pipe.transform(validation))\n",
    "\n",
    "resultrf4"
   ]
  },
  {
   "cell_type": "code",
   "execution_count": 26,
   "metadata": {},
   "outputs": [
    {
     "data": {
      "text/plain": [
       "0.8275709873883772"
      ]
     },
     "execution_count": 26,
     "metadata": {},
     "output_type": "execute_result"
    }
   ],
   "source": [
    "#GBT without Cross Validation\n",
    "\n",
    "gbt = classification.GBTClassifier(labelCol='gender_label', featuresCol='sfeatures')\n",
    "gbt_pipe=Pipeline(stages=[pipe_prep,gbt]).fit(training)\n",
    "\n",
    "evaluator = BinaryClassificationEvaluator(labelCol=\"gender_label\", metricName='areaUnderROC')\n",
    "\n",
    "resultrf4=evaluator.evaluate(gbt_pipe.transform(test))\n",
    "\n",
    "resultrf4"
   ]
  },
  {
   "cell_type": "code",
   "execution_count": 27,
   "metadata": {},
   "outputs": [
    {
     "data": {
      "text/plain": [
       "{Param(parent='GBTClassifier_1f8aabeb2836', name='cacheNodeIds', doc='If false, the algorithm will pass trees to executors to match instances with nodes. If true, the algorithm will cache node IDs for each instance. Caching can speed up training of deeper trees.'): False,\n",
       " Param(parent='GBTClassifier_1f8aabeb2836', name='checkpointInterval', doc='set checkpoint interval (>= 1) or disable checkpoint (-1). E.g. 10 means that the cache will get checkpointed every 10 iterations. Note: this setting will be ignored if the checkpoint directory is not set in the SparkContext'): 10,\n",
       " Param(parent='GBTClassifier_1f8aabeb2836', name='featureSubsetStrategy', doc='The number of features to consider for splits at each tree node. Supported options: auto, all, onethird, sqrt, log2, (0.0-1.0], [1-n].'): 'all',\n",
       " Param(parent='GBTClassifier_1f8aabeb2836', name='featuresCol', doc='features column name'): 'sfeatures',\n",
       " Param(parent='GBTClassifier_1f8aabeb2836', name='labelCol', doc='label column name'): 'gender_label',\n",
       " Param(parent='GBTClassifier_1f8aabeb2836', name='lossType', doc='Loss function which GBT tries to minimize (case-insensitive). Supported options: logistic'): 'logistic',\n",
       " Param(parent='GBTClassifier_1f8aabeb2836', name='maxBins', doc='Max number of bins for discretizing continuous features.  Must be >=2 and >= number of categories for any categorical feature.'): 20,\n",
       " Param(parent='GBTClassifier_1f8aabeb2836', name='maxDepth', doc='Maximum depth of the tree. (>= 0) E.g., depth 0 means 1 leaf node; depth 1 means 1 internal node + 2 leaf nodes.'): 10,\n",
       " Param(parent='GBTClassifier_1f8aabeb2836', name='maxIter', doc='maximum number of iterations (>= 0)'): 2,\n",
       " Param(parent='GBTClassifier_1f8aabeb2836', name='maxMemoryInMB', doc='Maximum memory in MB allocated to histogram aggregation.'): 256,\n",
       " Param(parent='GBTClassifier_1f8aabeb2836', name='minInfoGain', doc='Minimum information gain for a split to be considered at a tree node.'): 0.0,\n",
       " Param(parent='GBTClassifier_1f8aabeb2836', name='minInstancesPerNode', doc='Minimum number of instances each child must have after split.  If a split causes the left or right child to have fewer than minInstancesPerNode, the split will be discarded as invalid. Should be >= 1.'): 1,\n",
       " Param(parent='GBTClassifier_1f8aabeb2836', name='predictionCol', doc='prediction column name'): 'prediction',\n",
       " Param(parent='GBTClassifier_1f8aabeb2836', name='seed', doc='random seed'): -3311026875885403978,\n",
       " Param(parent='GBTClassifier_1f8aabeb2836', name='stepSize', doc='Step size (a.k.a. learning rate) in interval (0, 1] for shrinking the contribution of each estimator.'): 0.1,\n",
       " Param(parent='GBTClassifier_1f8aabeb2836', name='subsamplingRate', doc='Fraction of the training data used for learning each decision tree, in range (0, 1].'): 1.0}"
      ]
     },
     "execution_count": 27,
     "metadata": {},
     "output_type": "execute_result"
    }
   ],
   "source": [
    "# GBT Cross Validation\n",
    "\n",
    "from pyspark.ml.regression import RandomForestRegressor\n",
    "from pyspark.ml.tuning import CrossValidator, ParamGridBuilder\n",
    "from pyspark.ml.evaluation import RegressionEvaluator\n",
    "\n",
    "gbt_pipe = Pipeline(stages=[pipe_prep, gbt])\n",
    "\n",
    "gbtParam = (ParamGridBuilder()\n",
    "             .addGrid(gbt.maxDepth, [4, 6, 8, 10])\n",
    "             .addGrid(gbt.maxBins, [5, 10, 20])\n",
    "             .addGrid(gbt.maxIter, [2])\n",
    "             .build())\n",
    "\n",
    "evaluator = BinaryClassificationEvaluator(labelCol=\"gender_label\", metricName='areaUnderROC')\n",
    "#evaluator = RegressionEvaluator(labelCol=\"town_encoded\", predictionCol=\"prediction\", metricName=\"r2\")\n",
    "#evaluator = MulticlassClassificationEvaluator(labelCol = 'gender_label', predictionCol='prediction', metricName = 'accuracy')\n",
    "crossval = CrossValidator(estimator=gbt_pipe,\n",
    "                         estimatorParamMaps=gbtParam,\n",
    "                         evaluator=evaluator,\n",
    "                         numFolds=3)\n",
    "\n",
    "#cv = CrossValidator(estimator=random_forest_pipeline, estimatorParamMaps=paramGrid, evaluator=evaluator, numFolds=5)\n",
    "\n",
    "\n",
    "cvmodel = crossval.fit(validation)\n",
    "cvmodel.bestModel.stages[-1].extractParamMap()"
   ]
  },
  {
   "cell_type": "code",
   "execution_count": 30,
   "metadata": {},
   "outputs": [
    {
     "data": {
      "text/plain": [
       "0.887610414447957"
      ]
     },
     "execution_count": 30,
     "metadata": {},
     "output_type": "execute_result"
    }
   ],
   "source": [
    "gbt = classification.GBTClassifier(labelCol='gender_label', featuresCol='sfeatures', maxDepth=10, maxBins=20, lossType = 'logistic', maxIter=2)\n",
    "gbt_pipe=Pipeline(stages=[pipe_prep,gbt]).fit(training)\n",
    "\n",
    "evaluator = BinaryClassificationEvaluator(labelCol=\"gender_label\", metricName='areaUnderROC')\n",
    "\n",
    "resultrf4=evaluator.evaluate(gbt_pipe.transform(test))\n",
    "\n",
    "resultrf4"
   ]
  },
  {
   "cell_type": "code",
   "execution_count": 190,
   "metadata": {},
   "outputs": [
    {
     "ename": "TypeError",
     "evalue": "save() takes 2 positional arguments but 3 were given",
     "output_type": "error",
     "traceback": [
      "\u001b[0;31m---------------------------------------------------------------------------\u001b[0m",
      "\u001b[0;31mTypeError\u001b[0m                                 Traceback (most recent call last)",
      "\u001b[0;32m<ipython-input-190-2e166ccbb218>\u001b[0m in \u001b[0;36m<module>\u001b[0;34m\u001b[0m\n\u001b[0;32m----> 1\u001b[0;31m \u001b[0mgbt\u001b[0m\u001b[0;34m.\u001b[0m\u001b[0msave\u001b[0m\u001b[0;34m(\u001b[0m\u001b[0msc\u001b[0m\u001b[0;34m,\u001b[0m \u001b[0;34m\"gbt_model.model\"\u001b[0m\u001b[0;34m)\u001b[0m\u001b[0;34m\u001b[0m\u001b[0;34m\u001b[0m\u001b[0m\n\u001b[0m",
      "\u001b[0;31mTypeError\u001b[0m: save() takes 2 positional arguments but 3 were given"
     ]
    }
   ],
   "source": [
    "gbt.save(sc, \"gbt_model.model\")"
   ]
  },
  {
   "cell_type": "code",
   "execution_count": 171,
   "metadata": {},
   "outputs": [],
   "source": [
    "from pyspark.ml.regression import RandomForestRegressor\n",
    "from pyspark.ml.tuning import CrossValidator, ParamGridBuilder\n",
    "from pyspark.ml.evaluation import RegressionEvaluator\n",
    "\n",
    "rf_pipe=Pipeline(stages=[pipe_prep2,rf])\n",
    "\n",
    "rfParam = ParamGridBuilder() \\\n",
    ".addGrid(rf.maxDepth, [4, 6, 8, 10]) \\\n",
    ".addGrid(rf.maxBins, [5, 10, 20]) \\\n",
    ".addGrid(rf.impurity, [\"gini\"]) \\\n",
    ".build()\n",
    "\n",
    "# gbtParam = (ParamGridBuilder()\n",
    "#              .addGrid(gbt.maxDepth, [4, 6, 8, 10])\n",
    "#              .addGrid(gbt.maxBins, [5, 10, 20, 40])\n",
    "#              .addGrid(gbt.maxIter, [5, 10, 15])\n",
    "#              .build())\n",
    "\n",
    "#evaluator = BinaryClassificationEvaluator(labelCol=\"gender_label\", metricName='areaUnderROC')\n",
    "#evaluator = RegressionEvaluator(labelCol=\"town_encoded\", predictionCol=\"prediction\", metricName=\"r2\")\n",
    "evaluator = MulticlassClassificationEvaluator(labelCol = 'town_encoded', predictionCol='prediction', metricName = 'accuracy')\n",
    "crossval = CrossValidator(estimator=rf_pipe,\n",
    "                         estimatorParamMaps=rfParam,\n",
    "                         evaluator=evaluator,\n",
    "                         numFolds=3)\n",
    "\n",
    "#cv = CrossValidator(estimator=random_forest_pipeline, estimatorParamMaps=paramGrid, evaluator=evaluator, numFolds=5)\n",
    "\n",
    "\n",
    "cvmodel = crossval.fit(training)"
   ]
  },
  {
   "cell_type": "code",
   "execution_count": 172,
   "metadata": {},
   "outputs": [
    {
     "data": {
      "text/plain": [
       "{Param(parent='RandomForestClassifier_14043bdac82f', name='cacheNodeIds', doc='If false, the algorithm will pass trees to executors to match instances with nodes. If true, the algorithm will cache node IDs for each instance. Caching can speed up training of deeper trees.'): False,\n",
       " Param(parent='RandomForestClassifier_14043bdac82f', name='checkpointInterval', doc='set checkpoint interval (>= 1) or disable checkpoint (-1). E.g. 10 means that the cache will get checkpointed every 10 iterations. Note: this setting will be ignored if the checkpoint directory is not set in the SparkContext'): 10,\n",
       " Param(parent='RandomForestClassifier_14043bdac82f', name='featureSubsetStrategy', doc='The number of features to consider for splits at each tree node. Supported options: auto, all, onethird, sqrt, log2, (0.0-1.0], [1-n].'): 'auto',\n",
       " Param(parent='RandomForestClassifier_14043bdac82f', name='featuresCol', doc='features column name'): 'sfeatures',\n",
       " Param(parent='RandomForestClassifier_14043bdac82f', name='impurity', doc='Criterion used for information gain calculation (case-insensitive). Supported options: entropy, gini'): 'gini',\n",
       " Param(parent='RandomForestClassifier_14043bdac82f', name='labelCol', doc='label column name'): 'town_encoded',\n",
       " Param(parent='RandomForestClassifier_14043bdac82f', name='maxBins', doc='Max number of bins for discretizing continuous features.  Must be >=2 and >= number of categories for any categorical feature.'): 20,\n",
       " Param(parent='RandomForestClassifier_14043bdac82f', name='maxDepth', doc='Maximum depth of the tree. (>= 0) E.g., depth 0 means 1 leaf node; depth 1 means 1 internal node + 2 leaf nodes.'): 10,\n",
       " Param(parent='RandomForestClassifier_14043bdac82f', name='maxMemoryInMB', doc='Maximum memory in MB allocated to histogram aggregation.'): 256,\n",
       " Param(parent='RandomForestClassifier_14043bdac82f', name='minInfoGain', doc='Minimum information gain for a split to be considered at a tree node.'): 0.0,\n",
       " Param(parent='RandomForestClassifier_14043bdac82f', name='minInstancesPerNode', doc='Minimum number of instances each child must have after split.  If a split causes the left or right child to have fewer than minInstancesPerNode, the split will be discarded as invalid. Should be >= 1.'): 1,\n",
       " Param(parent='RandomForestClassifier_14043bdac82f', name='numTrees', doc='Number of trees to train (>= 1)'): 20,\n",
       " Param(parent='RandomForestClassifier_14043bdac82f', name='predictionCol', doc='prediction column name'): 'prediction',\n",
       " Param(parent='RandomForestClassifier_14043bdac82f', name='probabilityCol', doc='Column name for predicted class conditional probabilities. Note: Not all models output well-calibrated probability estimates! These probabilities should be treated as confidences, not precise probabilities'): 'probability',\n",
       " Param(parent='RandomForestClassifier_14043bdac82f', name='rawPredictionCol', doc='raw prediction (a.k.a. confidence) column name'): 'rawPrediction',\n",
       " Param(parent='RandomForestClassifier_14043bdac82f', name='seed', doc='random seed'): 3862609788390927686,\n",
       " Param(parent='RandomForestClassifier_14043bdac82f', name='subsamplingRate', doc='Fraction of the training data used for learning each decision tree, in range (0, 1].'): 1.0}"
      ]
     },
     "execution_count": 172,
     "metadata": {},
     "output_type": "execute_result"
    }
   ],
   "source": [
    "cvmodel.bestModel.stages[-1].extractParamMap()"
   ]
  },
  {
   "cell_type": "code",
   "execution_count": null,
   "metadata": {},
   "outputs": [],
   "source": []
  },
  {
   "cell_type": "code",
   "execution_count": 17,
   "metadata": {},
   "outputs": [
    {
     "name": "stdout",
     "output_type": "stream",
     "text": [
      "+---+--------------------+\n",
      "|age|   lat_long_features|\n",
      "+---+--------------------+\n",
      "| 53|[39.9599990844726...|\n",
      "| 53|[39.9599990844726...|\n",
      "| 53|[39.9599990844726...|\n",
      "| 53|[39.9599990844726...|\n",
      "| 53|[39.9599990844726...|\n",
      "| 53|[39.9599990844726...|\n",
      "| 53|[39.9599990844726...|\n",
      "| 53|[39.9599990844726...|\n",
      "| 53|[39.9599990844726...|\n",
      "| 53|[39.9599990844726...|\n",
      "| 53|[39.9599990844726...|\n",
      "| 53|[39.9599990844726...|\n",
      "| 53|[39.9599990844726...|\n",
      "| 53|[39.9599990844726...|\n",
      "| 53|[39.9599990844726...|\n",
      "| 53|[39.9599990844726...|\n",
      "| 53|[39.9599990844726...|\n",
      "| 53|[39.9599990844726...|\n",
      "| 53|[39.9599990844726...|\n",
      "| 53|[39.9599990844726...|\n",
      "+---+--------------------+\n",
      "only showing top 20 rows\n",
      "\n"
     ]
    }
   ],
   "source": [
    "vecAssembler = feature.VectorAssembler(inputCols=['latitude', 'longitude'], outputCol=\"lat_long_features\")\n",
    "df_kmeans = vecAssembler.transform(train_data).select('age', 'lat_long_features')\n",
    "df_kmeans.show()"
   ]
  },
  {
   "cell_type": "code",
   "execution_count": 19,
   "metadata": {},
   "outputs": [],
   "source": [
    "from pyspark.ml.clustering import KMeans\n",
    "cost = np.zeros(20)\n",
    "for k in range(2,20):\n",
    "    kmeans = KMeans().setK(k).setSeed(1).setFeaturesCol(\"lat_long_features\")\n",
    "    model = kmeans.fit(df_kmeans.sample(False,0.1, seed=42))\n",
    "    cost[k] = model.computeCost(df_kmeans) # requires Spark 2.0 or later"
   ]
  },
  {
   "cell_type": "code",
   "execution_count": 20,
   "metadata": {},
   "outputs": [
    {
     "data": {
      "text/plain": [
       "Text(0,0.5,'cost')"
      ]
     },
     "execution_count": 20,
     "metadata": {},
     "output_type": "execute_result"
    },
    {
     "data": {
      "image/png": "[encoded data removed]",
      "text/plain": [
       "<Figure size 576x432 with 1 Axes>"
      ]
     },
     "metadata": {
      "needs_background": "light"
     },
     "output_type": "display_data"
    }
   ],
   "source": [
    "fig, ax = plt.subplots(1,1, figsize =(8,6))\n",
    "ax.plot(range(2,20),cost[2:20])\n",
    "ax.set_xlabel('k')\n",
    "ax.set_ylabel('cost')"
   ]
  },
  {
   "cell_type": "code",
   "execution_count": 21,
   "metadata": {},
   "outputs": [
    {
     "name": "stdout",
     "output_type": "stream",
     "text": [
      "Cluster Centers: \n",
      "[ 32.24122681 118.8907866 ]\n",
      "[0.99882765 0.99836222]\n",
      "[ 25.15638671 102.45244237]\n",
      "[ 34.46231312 108.09823746]\n",
      "[43.46734334 86.50044497]\n",
      "[ 39.81770251 116.65649391]\n",
      "[ 36.52262185 119.12671476]\n",
      "[ 25.09187933 118.12988306]\n",
      "[  19.81999969 -155.99000549]\n",
      "[ 45.06888835 -75.17088877]\n",
      "[ 43.44501831 124.47754174]\n",
      "[ 30.62152976 120.785703  ]\n",
      "[ 30.12735561 104.98260039]\n",
      "[ 22.99863919 113.10212057]\n",
      "[ 29.4342806  114.01092315]\n",
      "[ 36.16441134 113.20217659]\n"
     ]
    }
   ],
   "source": [
    "k = 16\n",
    "kmeans = KMeans().setK(k).setSeed(1).setFeaturesCol(\"lat_long_features\")\n",
    "model = kmeans.fit(df_kmeans)\n",
    "centers = model.clusterCenters()\n",
    "\n",
    "print(\"Cluster Centers: \")\n",
    "for center in centers:\n",
    "    print(center)"
   ]
  },
  {
   "cell_type": "code",
   "execution_count": 23,
   "metadata": {},
   "outputs": [],
   "source": [
    "transformed = model.transform(df_kmeans)"
   ]
  },
  {
   "cell_type": "code",
   "execution_count": 24,
   "metadata": {},
   "outputs": [
    {
     "name": "stdout",
     "output_type": "stream",
     "text": [
      "+---+--------------------+----------+\n",
      "|age|   lat_long_features|prediction|\n",
      "+---+--------------------+----------+\n",
      "| 53|[39.9599990844726...|         5|\n",
      "| 53|[39.9599990844726...|         5|\n",
      "| 53|[39.9599990844726...|         5|\n",
      "| 53|[39.9599990844726...|         5|\n",
      "| 53|[39.9599990844726...|         5|\n",
      "| 53|[39.9599990844726...|         5|\n",
      "| 53|[39.9599990844726...|         5|\n",
      "| 53|[39.9599990844726...|         5|\n",
      "| 53|[39.9599990844726...|         5|\n",
      "| 53|[39.9599990844726...|         5|\n",
      "| 53|[39.9599990844726...|         5|\n",
      "| 53|[39.9599990844726...|         5|\n",
      "| 53|[39.9599990844726...|         5|\n",
      "| 53|[39.9599990844726...|         5|\n",
      "| 53|[39.9599990844726...|         5|\n",
      "| 53|[39.9599990844726...|         5|\n",
      "| 53|[39.9599990844726...|         5|\n",
      "| 53|[39.9599990844726...|         5|\n",
      "| 53|[39.9599990844726...|         5|\n",
      "| 53|[39.9599990844726...|         5|\n",
      "+---+--------------------+----------+\n",
      "only showing top 20 rows\n",
      "\n"
     ]
    }
   ],
   "source": [
    "transformed.show()"
   ]
  },
  {
   "cell_type": "code",
   "execution_count": 184,
   "metadata": {},
   "outputs": [],
   "source": [
    "gbt = classification.GBTClassifier(labelCol='gender_label', featuresCol='sfeatures')\n",
    "#gbt_prediction = gbt_pipeline.fit(training).transform(test)\n",
    "\n",
    "\n",
    "from pyspark.ml.regression import RandomForestRegressor\n",
    "from pyspark.ml.tuning import CrossValidator, ParamGridBuilder\n",
    "from pyspark.ml.evaluation import RegressionEvaluator\n",
    "\n",
    "rf_pipe=Pipeline(stages=[pipe_prep ,rf])\n",
    "gbt_pipe = Pipeline(stages=[pipe_prep, gbt])\n",
    "\n",
    "rfParam = ParamGridBuilder() \\\n",
    ".addGrid(rf.maxDepth, [4, 6, 8, 10]) \\\n",
    ".addGrid(rf.maxBins, [5, 10, 20]) \\\n",
    ".addGrid(rf.impurity, [\"gini\"]) \\\n",
    ".build()\n",
    "\n",
    "gbtParam = (ParamGridBuilder()\n",
    "             .addGrid(gbt.maxDepth, [4, 6, 8, 10])\n",
    "             .addGrid(gbt.maxBins, [5, 10, 20])\n",
    "             .addGrid(gbt.maxIter, [2])\n",
    "             .build())\n",
    "\n",
    "#evaluator = BinaryClassificationEvaluator(labelCol=\"gender_label\", metricName='areaUnderROC')\n",
    "#evaluator = RegressionEvaluator(labelCol=\"town_encoded\", predictionCol=\"prediction\", metricName=\"r2\")\n",
    "evaluator = MulticlassClassificationEvaluator(labelCol = 'gender_label', predictionCol='prediction', metricName = 'accuracy')\n",
    "crossval = CrossValidator(estimator=gbt_pipe,\n",
    "                         estimatorParamMaps=gbtParam,\n",
    "                         evaluator=evaluator,\n",
    "                         numFolds=3)\n",
    "\n",
    "#cv = CrossValidator(estimator=random_forest_pipeline, estimatorParamMaps=paramGrid, evaluator=evaluator, numFolds=5)\n",
    "\n",
    "\n",
    "cvmodel = crossval.fit(training)"
   ]
  },
  {
   "cell_type": "code",
   "execution_count": 185,
   "metadata": {},
   "outputs": [
    {
     "data": {
      "text/plain": [
       "{Param(parent='GBTClassifier_710f6f3c5ba8', name='cacheNodeIds', doc='If false, the algorithm will pass trees to executors to match instances with nodes. If true, the algorithm will cache node IDs for each instance. Caching can speed up training of deeper trees.'): False,\n",
       " Param(parent='GBTClassifier_710f6f3c5ba8', name='checkpointInterval', doc='set checkpoint interval (>= 1) or disable checkpoint (-1). E.g. 10 means that the cache will get checkpointed every 10 iterations. Note: this setting will be ignored if the checkpoint directory is not set in the SparkContext'): 10,\n",
       " Param(parent='GBTClassifier_710f6f3c5ba8', name='featureSubsetStrategy', doc='The number of features to consider for splits at each tree node. Supported options: auto, all, onethird, sqrt, log2, (0.0-1.0], [1-n].'): 'all',\n",
       " Param(parent='GBTClassifier_710f6f3c5ba8', name='featuresCol', doc='features column name'): 'sfeatures',\n",
       " Param(parent='GBTClassifier_710f6f3c5ba8', name='labelCol', doc='label column name'): 'gender_label',\n",
       " Param(parent='GBTClassifier_710f6f3c5ba8', name='lossType', doc='Loss function which GBT tries to minimize (case-insensitive). Supported options: logistic'): 'logistic',\n",
       " Param(parent='GBTClassifier_710f6f3c5ba8', name='maxBins', doc='Max number of bins for discretizing continuous features.  Must be >=2 and >= number of categories for any categorical feature.'): 20,\n",
       " Param(parent='GBTClassifier_710f6f3c5ba8', name='maxDepth', doc='Maximum depth of the tree. (>= 0) E.g., depth 0 means 1 leaf node; depth 1 means 1 internal node + 2 leaf nodes.'): 10,\n",
       " Param(parent='GBTClassifier_710f6f3c5ba8', name='maxIter', doc='maximum number of iterations (>= 0)'): 2,\n",
       " Param(parent='GBTClassifier_710f6f3c5ba8', name='maxMemoryInMB', doc='Maximum memory in MB allocated to histogram aggregation.'): 256,\n",
       " Param(parent='GBTClassifier_710f6f3c5ba8', name='minInfoGain', doc='Minimum information gain for a split to be considered at a tree node.'): 0.0,\n",
       " Param(parent='GBTClassifier_710f6f3c5ba8', name='minInstancesPerNode', doc='Minimum number of instances each child must have after split.  If a split causes the left or right child to have fewer than minInstancesPerNode, the split will be discarded as invalid. Should be >= 1.'): 1,\n",
       " Param(parent='GBTClassifier_710f6f3c5ba8', name='predictionCol', doc='prediction column name'): 'prediction',\n",
       " Param(parent='GBTClassifier_710f6f3c5ba8', name='seed', doc='random seed'): -2161173745770440198,\n",
       " Param(parent='GBTClassifier_710f6f3c5ba8', name='stepSize', doc='Step size (a.k.a. learning rate) in interval (0, 1] for shrinking the contribution of each estimator.'): 0.1,\n",
       " Param(parent='GBTClassifier_710f6f3c5ba8', name='subsamplingRate', doc='Fraction of the training data used for learning each decision tree, in range (0, 1].'): 1.0}"
      ]
     },
     "execution_count": 185,
     "metadata": {},
     "output_type": "execute_result"
    }
   ],
   "source": [
    "cvmodel.bestModel.stages[-1].extractParamMap()"
   ]
  },
  {
   "cell_type": "code",
   "execution_count": null,
   "metadata": {},
   "outputs": [],
   "source": []
  }
 ],
 "metadata": {
  "kernelspec": {
   "display_name": "Python 3",
   "language": "python",
   "name": "python3"
  },
  "language_info": {
   "codemirror_mode": {
    "name": "ipython",
    "version": 3
   },
   "file_extension": ".py",
   "mimetype": "text/x-python",
   "name": "python",
   "nbconvert_exporter": "python",
   "pygments_lexer": "ipython3",
   "version": "3.6.7"
  }
 },
 "nbformat": 4,
 "nbformat_minor": 2
}
