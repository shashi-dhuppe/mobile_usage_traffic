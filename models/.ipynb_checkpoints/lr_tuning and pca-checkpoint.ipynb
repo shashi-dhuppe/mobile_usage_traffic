{
 "cells": [
  {
   "cell_type": "code",
   "execution_count": 1,
   "metadata": {},
   "outputs": [],
   "source": [
    "import pyspark\n",
    "from pyspark.sql import SparkSession\n",
    "from pyspark.sql import SQLContext\n",
    "import pandas as pd\n",
    "import sys\n",
    "import os\n",
    "from pyspark.sql.functions import isnan, when, count, col\n",
    "from pyspark.sql.functions import to_timestamp\n",
    "import time\n",
    "from pyspark.sql import functions as fn\n",
    "from pyspark.ml import feature, regression, Pipeline\n",
    "\n",
    "import datetime\n",
    "from pyspark.sql.functions import year, month, dayofmonth, hour, minute, second\n",
    "from pyspark.mllib.stat import Statistics\n",
    "import pandas as pd\n",
    "\n",
    "import matplotlib.pyplot as plt\n",
    "import numpy as np\n",
    "\n",
    "from pyspark.ml.tuning import CrossValidator, ParamGridBuilder\n",
    "\n",
    "from pyspark.sql.types import FloatType\n",
    "from pyspark.sql.types import IntegerType\n",
    "\n",
    "spark = SparkSession.builder.appName('data-cleaning').\\\n",
    "                        config(\"spark.executor.instances\", '3').\\\n",
    "                        config(\"spark.executor.memory\", '40g').\\\n",
    "                        config('spark.executor.cores', '5').\\\n",
    "                        config('spark.cores.max', '5').appName('data_clean').\\\n",
    "                        getOrCreate()\n",
    "\n",
    "sqlContext = SQLContext(spark.sparkContext)\n",
    "\n",
    "from pyspark.ml import Pipeline\n",
    "from pyspark.ml import feature\n",
    "from pyspark.ml import classification\n",
    "from pyspark.ml.evaluation import BinaryClassificationEvaluator, MulticlassClassificationEvaluator, RegressionEvaluator"
   ]
  },
  {
   "cell_type": "code",
   "execution_count": 2,
   "metadata": {},
   "outputs": [],
   "source": [
    "train_data = spark.read.format('csv').option('header', 'true').load('../modeled_data/train_with_geo.csv')"
   ]
  },
  {
   "cell_type": "code",
   "execution_count": 3,
   "metadata": {},
   "outputs": [
    {
     "data": {
      "text/html": [
       "<div>\n",
       "<style scoped>\n",
       "    .dataframe tbody tr th:only-of-type {\n",
       "        vertical-align: middle;\n",
       "    }\n",
       "\n",
       "    .dataframe tbody tr th {\n",
       "        vertical-align: top;\n",
       "    }\n",
       "\n",
       "    .dataframe thead th {\n",
       "        text-align: right;\n",
       "    }\n",
       "</style>\n",
       "<table border=\"1\" class=\"dataframe\">\n",
       "  <thead>\n",
       "    <tr style=\"text-align: right;\">\n",
       "      <th></th>\n",
       "      <th>_c0</th>\n",
       "      <th>app_id</th>\n",
       "      <th>device_id</th>\n",
       "      <th>label_id</th>\n",
       "      <th>event_id</th>\n",
       "      <th>longitude</th>\n",
       "      <th>latitude</th>\n",
       "      <th>is_active</th>\n",
       "      <th>age</th>\n",
       "      <th>is_installed</th>\n",
       "      <th>...</th>\n",
       "      <th>second</th>\n",
       "      <th>gender</th>\n",
       "      <th>group</th>\n",
       "      <th>category</th>\n",
       "      <th>phone_brand</th>\n",
       "      <th>device_model</th>\n",
       "      <th>town</th>\n",
       "      <th>country</th>\n",
       "      <th>category_mapped</th>\n",
       "      <th>town_index</th>\n",
       "    </tr>\n",
       "  </thead>\n",
       "  <tbody>\n",
       "    <tr>\n",
       "      <th>0</th>\n",
       "      <td>0</td>\n",
       "      <td>-1.4565846e+17</td>\n",
       "      <td>-4.968155e+18</td>\n",
       "      <td>713.0</td>\n",
       "      <td>4633.0</td>\n",
       "      <td>116.38</td>\n",
       "      <td>39.96</td>\n",
       "      <td>0</td>\n",
       "      <td>53</td>\n",
       "      <td>1</td>\n",
       "      <td>...</td>\n",
       "      <td>6</td>\n",
       "      <td>F</td>\n",
       "      <td>F43+</td>\n",
       "      <td>Services 1</td>\n",
       "      <td>Huawei</td>\n",
       "      <td>荣耀6 Plus</td>\n",
       "      <td>Beijing</td>\n",
       "      <td>China</td>\n",
       "      <td>industry</td>\n",
       "      <td>35</td>\n",
       "    </tr>\n",
       "    <tr>\n",
       "      <th>1</th>\n",
       "      <td>1</td>\n",
       "      <td>-1.4565846e+17</td>\n",
       "      <td>-4.968155e+18</td>\n",
       "      <td>704.0</td>\n",
       "      <td>4633.0</td>\n",
       "      <td>116.38</td>\n",
       "      <td>39.96</td>\n",
       "      <td>0</td>\n",
       "      <td>53</td>\n",
       "      <td>1</td>\n",
       "      <td>...</td>\n",
       "      <td>6</td>\n",
       "      <td>F</td>\n",
       "      <td>F43+</td>\n",
       "      <td>Property Industry 2.0</td>\n",
       "      <td>Huawei</td>\n",
       "      <td>荣耀6 Plus</td>\n",
       "      <td>Beijing</td>\n",
       "      <td>China</td>\n",
       "      <td>industry</td>\n",
       "      <td>35</td>\n",
       "    </tr>\n",
       "    <tr>\n",
       "      <th>2</th>\n",
       "      <td>2</td>\n",
       "      <td>-1.4565846e+17</td>\n",
       "      <td>-4.968155e+18</td>\n",
       "      <td>548.0</td>\n",
       "      <td>4633.0</td>\n",
       "      <td>116.38</td>\n",
       "      <td>39.96</td>\n",
       "      <td>0</td>\n",
       "      <td>53</td>\n",
       "      <td>1</td>\n",
       "      <td>...</td>\n",
       "      <td>6</td>\n",
       "      <td>F</td>\n",
       "      <td>F43+</td>\n",
       "      <td>Industry tag</td>\n",
       "      <td>Huawei</td>\n",
       "      <td>荣耀6 Plus</td>\n",
       "      <td>Beijing</td>\n",
       "      <td>China</td>\n",
       "      <td>industry</td>\n",
       "      <td>35</td>\n",
       "    </tr>\n",
       "  </tbody>\n",
       "</table>\n",
       "<p>3 rows × 23 columns</p>\n",
       "</div>"
      ],
      "text/plain": [
       "  _c0          app_id      device_id label_id event_id longitude latitude  \\\n",
       "0   0  -1.4565846e+17  -4.968155e+18    713.0   4633.0    116.38    39.96   \n",
       "1   1  -1.4565846e+17  -4.968155e+18    704.0   4633.0    116.38    39.96   \n",
       "2   2  -1.4565846e+17  -4.968155e+18    548.0   4633.0    116.38    39.96   \n",
       "\n",
       "  is_active age is_installed    ...     second gender group  \\\n",
       "0         0  53            1    ...          6      F  F43+   \n",
       "1         0  53            1    ...          6      F  F43+   \n",
       "2         0  53            1    ...          6      F  F43+   \n",
       "\n",
       "                category phone_brand device_model     town country  \\\n",
       "0             Services 1      Huawei     荣耀6 Plus  Beijing   China   \n",
       "1  Property Industry 2.0      Huawei     荣耀6 Plus  Beijing   China   \n",
       "2           Industry tag      Huawei     荣耀6 Plus  Beijing   China   \n",
       "\n",
       "  category_mapped town_index  \n",
       "0        industry         35  \n",
       "1        industry         35  \n",
       "2        industry         35  \n",
       "\n",
       "[3 rows x 23 columns]"
      ]
     },
     "execution_count": 3,
     "metadata": {},
     "output_type": "execute_result"
    }
   ],
   "source": [
    "train_data.limit(3).toPandas()"
   ]
  },
  {
   "cell_type": "code",
   "execution_count": 3,
   "metadata": {},
   "outputs": [],
   "source": [
    "train_data = train_data.drop('latitude18')\\\n",
    "    .drop('longitude19')\\\n",
    "    .drop('_c0')\\\n",
    "    .withColumnRenamed('latitude5', 'latitude')\\\n",
    "    .withColumnRenamed('longitude4', 'longitude')"
   ]
  },
  {
   "cell_type": "code",
   "execution_count": 4,
   "metadata": {},
   "outputs": [],
   "source": [
    "training, test = train_data.randomSplit([0.8, 0.2], )"
   ]
  },
  {
   "cell_type": "code",
   "execution_count": 23,
   "metadata": {},
   "outputs": [
    {
     "data": {
      "text/plain": [
       "103795"
      ]
     },
     "execution_count": 23,
     "metadata": {},
     "output_type": "execute_result"
    }
   ],
   "source": [
    "training.count()"
   ]
  },
  {
   "cell_type": "code",
   "execution_count": 24,
   "metadata": {},
   "outputs": [
    {
     "data": {
      "text/plain": [
       "26004"
      ]
     },
     "execution_count": 24,
     "metadata": {},
     "output_type": "execute_result"
    }
   ],
   "source": [
    "test.count()"
   ]
  },
  {
   "cell_type": "code",
   "execution_count": 25,
   "metadata": {},
   "outputs": [],
   "source": [
    "float_columns = ['device_id', 'app_id', 'label_id', 'event_id', 'longitude', 'latitude']\n",
    "int_columns = ['is_active', 'age', 'is_installed', 'day', 'hour', 'minute', 'second', 'town_index']\n",
    "string_columns = ['gender', 'group', 'category', 'phone_brand', 'device_model', 'town', 'country', 'category_mapped']\n",
    "\n",
    "train_data=train_data.select(*(col(c).cast(\"float\").alias(c) for c in float_columns), \\\n",
    "                                                 *(col(c).cast(\"int\").alias(c) for c in int_columns), \\\n",
    "                                                 *(col(c).alias(c) for c in string_columns))\n",
    "\n",
    "training = training.select(*(col(c).cast(\"float\").alias(c) for c in float_columns), \\\n",
    "                                                 *(col(c).cast(\"int\").alias(c) for c in int_columns), \\\n",
    "                                                 *(col(c).alias(c) for c in string_columns))\n",
    "test = test.select(*(col(c).cast(\"float\").alias(c) for c in float_columns), \\\n",
    "                                                 *(col(c).cast(\"int\").alias(c) for c in int_columns), \\\n",
    "                                                 *(col(c).alias(c) for c in string_columns))"
   ]
  },
  {
   "cell_type": "code",
   "execution_count": 17,
   "metadata": {},
   "outputs": [
    {
     "data": {
      "text/plain": [
       "103795"
      ]
     },
     "execution_count": 17,
     "metadata": {},
     "output_type": "execute_result"
    }
   ],
   "source": [
    "training.count()"
   ]
  },
  {
   "cell_type": "code",
   "execution_count": 18,
   "metadata": {},
   "outputs": [
    {
     "data": {
      "text/plain": [
       "26004"
      ]
     },
     "execution_count": 18,
     "metadata": {},
     "output_type": "execute_result"
    }
   ],
   "source": [
    "test.count()"
   ]
  },
  {
   "cell_type": "code",
   "execution_count": 107,
   "metadata": {},
   "outputs": [],
   "source": [
    "#prep for logistic\n",
    "\n",
    "indexer = feature.StringIndexer(inputCol=\"gender\", outputCol=\"gender_label\",handleInvalid='skip')\n",
    "category = feature.StringIndexer(inputCol='category', outputCol='category_encoded',handleInvalid='skip')\n",
    "brand = feature.StringIndexer(inputCol='phone_brand', outputCol='phone_brand_encoded',handleInvalid='skip')\n",
    "group = feature.StringIndexer(inputCol='group', outputCol='group_encoded',handleInvalid='skip')\n",
    "# is_active = feature.StringIndexer(inputCol='is_active', outputCol='is_active_encoded',handleInvalid='skip')\n",
    "device_model = feature.StringIndexer(inputCol='device_model', outputCol='device_model_encoded',handleInvalid='skip')\n",
    "town_model = feature.StringIndexer(inputCol='town', outputCol='town_encoded',handleInvalid='skip')\n",
    "country_model = feature.StringIndexer(inputCol='country', outputCol='country_encoded',handleInvalid='skip')\n",
    "category_wide = feature.StringIndexer(inputCol='category_mapped', outputCol='category_wide_encoded',handleInvalid='skip')\n",
    "\n",
    "vector_assembler = feature.VectorAssembler(inputCols=['device_id', 'app_id', 'label_id', 'event_id', 'longitude', 'latitude', 'is_active', 'age', \n",
    "                                                            'day', 'hour', 'minute', 'second', 'category_encoded', 'category_wide_encoded', 'phone_brand_encoded',\\\n",
    "                                                     'is_active', 'device_model_encoded'],\n",
    "                                        outputCol='features')\n",
    "sc = feature.StandardScaler(inputCol='features',outputCol='sfeatures')\n",
    "\n",
    "evaluator = BinaryClassificationEvaluator(labelCol='gender_label')\n",
    "\n",
    "pipe_prep=Pipeline(stages=[indexer, category,category_wide, brand, device_model, vector_assembler, sc])"
   ]
  },
  {
   "cell_type": "code",
   "execution_count": 108,
   "metadata": {},
   "outputs": [
    {
     "data": {
      "text/plain": [
       "0.5929850624369608"
      ]
     },
     "execution_count": 108,
     "metadata": {},
     "output_type": "execute_result"
    }
   ],
   "source": [
    "# logistic with default or no parameters\n",
    "\n",
    "logistic = classification.LogisticRegression(labelCol='gender_label', featuresCol='sfeatures')\n",
    "\n",
    "lr_pipe = Pipeline(stages=[pipe_prep, logistic]).fit(training)\n",
    "\n",
    "result1=evaluator.evaluate(lr_pipe.transform(test))\n",
    "\n",
    "result1"
   ]
  },
  {
   "cell_type": "code",
   "execution_count": 12,
   "metadata": {},
   "outputs": [
    {
     "data": {
      "text/plain": [
       "0.5911758719539477"
      ]
     },
     "execution_count": 12,
     "metadata": {},
     "output_type": "execute_result"
    }
   ],
   "source": [
    "# logistic with regParam = 0.1\n",
    "\n",
    "logistic = classification.LogisticRegression(labelCol='gender_label', featuresCol='sfeatures',regParam=0.1)\n",
    "\n",
    "lr_pipe = Pipeline(stages=[pipe_prep, logistic]).fit(training)\n",
    "\n",
    "result2=evaluator.evaluate(lr_pipe.transform(test))\n",
    "\n",
    "result2"
   ]
  },
  {
   "cell_type": "code",
   "execution_count": 13,
   "metadata": {},
   "outputs": [
    {
     "data": {
      "text/plain": [
       "0.5"
      ]
     },
     "execution_count": 13,
     "metadata": {},
     "output_type": "execute_result"
    }
   ],
   "source": [
    "# logistic with ElasticNetParam = 0.4 and regParam = 0.1\n",
    "\n",
    "logistic = classification.LogisticRegression(labelCol='gender_label', featuresCol='sfeatures',regParam=0.1,elasticNetParam=0.4)\n",
    "\n",
    "lr_pipe = Pipeline(stages=[pipe_prep, logistic]).fit(training)\n",
    "\n",
    "result3=evaluator.evaluate(lr_pipe.transform(test))\n",
    "\n",
    "result3"
   ]
  },
  {
   "cell_type": "code",
   "execution_count": 14,
   "metadata": {},
   "outputs": [
    {
     "data": {
      "text/plain": [
       "0.5"
      ]
     },
     "execution_count": 14,
     "metadata": {},
     "output_type": "execute_result"
    }
   ],
   "source": [
    "# logistic with ElasticNetParam = 0.8 and regParam = 0.3\n",
    "\n",
    "logistic = classification.LogisticRegression(labelCol='gender_label', featuresCol='sfeatures',regParam=0.3,elasticNetParam=0.8)\n",
    "\n",
    "lr_pipe = Pipeline(stages=[pipe_prep, logistic]).fit(training)\n",
    "\n",
    "result4=evaluator.evaluate(lr_pipe.transform(test))\n",
    "\n",
    "result4"
   ]
  },
  {
   "cell_type": "code",
   "execution_count": 15,
   "metadata": {},
   "outputs": [
    {
     "data": {
      "text/plain": [
       "0.5"
      ]
     },
     "execution_count": 15,
     "metadata": {},
     "output_type": "execute_result"
    }
   ],
   "source": [
    "# logistic with ElasticNetParam = 0.8 and regParam = 0.3 and maxIter=10\n",
    "\n",
    "logistic = classification.LogisticRegression(labelCol='gender_label', featuresCol='sfeatures',regParam=0.3,elasticNetParam=0.8,maxIter=10)\n",
    "\n",
    "lr_pipe = Pipeline(stages=[pipe_prep, logistic]).fit(training)\n",
    "\n",
    "result5=evaluator.evaluate(lr_pipe.transform(test))\n",
    "\n",
    "result5"
   ]
  },
  {
   "cell_type": "code",
   "execution_count": 16,
   "metadata": {},
   "outputs": [
    {
     "data": {
      "text/plain": [
       "0.5929850624369604"
      ]
     },
     "execution_count": 16,
     "metadata": {},
     "output_type": "execute_result"
    }
   ],
   "source": [
    "# logistic with maxIter=200\n",
    "\n",
    "logistic = classification.LogisticRegression(labelCol='gender_label', featuresCol='sfeatures',maxIter=200)\n",
    "\n",
    "lr_pipe = Pipeline(stages=[pipe_prep, logistic]).fit(training)\n",
    "\n",
    "result6=evaluator.evaluate(lr_pipe.transform(test))\n",
    "\n",
    "result6"
   ]
  },
  {
   "cell_type": "code",
   "execution_count": 17,
   "metadata": {},
   "outputs": [
    {
     "data": {
      "text/plain": [
       "0.5927645654744123"
      ]
     },
     "execution_count": 17,
     "metadata": {},
     "output_type": "execute_result"
    }
   ],
   "source": [
    "# logistic with ElasticNetParam = 0.1 and regParam = 0.01\n",
    "\n",
    "logistic = classification.LogisticRegression(labelCol='gender_label', featuresCol='sfeatures',regParam=0.01,elasticNetParam=0.1)\n",
    "\n",
    "lr_pipe = Pipeline(stages=[pipe_prep, logistic]).fit(training)\n",
    "\n",
    "result7=evaluator.evaluate(lr_pipe.transform(test))\n",
    "\n",
    "result7"
   ]
  },
  {
   "cell_type": "code",
   "execution_count": 26,
   "metadata": {},
   "outputs": [
    {
     "name": "stdout",
     "output_type": "stream",
     "text": [
      "root\n",
      " |-- device_id: float (nullable = true)\n",
      " |-- app_id: float (nullable = true)\n",
      " |-- label_id: float (nullable = true)\n",
      " |-- event_id: float (nullable = true)\n",
      " |-- longitude: float (nullable = true)\n",
      " |-- latitude: float (nullable = true)\n",
      " |-- is_active: integer (nullable = true)\n",
      " |-- age: integer (nullable = true)\n",
      " |-- is_installed: integer (nullable = true)\n",
      " |-- day: integer (nullable = true)\n",
      " |-- hour: integer (nullable = true)\n",
      " |-- minute: integer (nullable = true)\n",
      " |-- second: integer (nullable = true)\n",
      " |-- town_index: integer (nullable = true)\n",
      " |-- gender: string (nullable = true)\n",
      " |-- group: string (nullable = true)\n",
      " |-- category: string (nullable = true)\n",
      " |-- phone_brand: string (nullable = true)\n",
      " |-- device_model: string (nullable = true)\n",
      " |-- town: string (nullable = true)\n",
      " |-- country: string (nullable = true)\n",
      " |-- category_mapped: string (nullable = true)\n",
      "\n"
     ]
    }
   ],
   "source": [
    "train_data.printSchema()"
   ]
  },
  {
   "cell_type": "code",
   "execution_count": 109,
   "metadata": {},
   "outputs": [],
   "source": [
    "pca=feature.PCA(k=2, inputCol='sfeatures', outputCol='pfeat')\n",
    "\n",
    "pipe_pca=Pipeline(stages=[pipe_prep,pca]).fit(training)\n",
    "\n",
    "pca_mod=pipe_pca.transform(train_data)"
   ]
  },
  {
   "cell_type": "code",
   "execution_count": 110,
   "metadata": {},
   "outputs": [],
   "source": [
    "feat=train_data.columns\n",
    "actfeat=['device_id', 'app_id', 'label_id', 'event_id', 'longitude', 'latitude', 'age', \n",
    "                                                            'day', 'hour', 'minute', 'second', 'category_encoded', 'category_wide_encoded', 'phone_brand_encoded',\\\n",
    "                                                     'is_active', 'device_model_encoded']\n",
    "\n",
    "# feat"
   ]
  },
  {
   "cell_type": "code",
   "execution_count": 111,
   "metadata": {},
   "outputs": [],
   "source": [
    "# actfeat=pca_mod.columns\n",
    "\n",
    "pca=pipe_pca.stages[1].pc.toArray()\n",
    "\n",
    "pc1_df=pd.DataFrame([pca[:, 0],actfeat]).T.rename(columns={0:'pc1',1:'abs_loadings'})\n",
    "pc2_df=pd.DataFrame([pca[:, 1],actfeat]).T.rename(columns={0:'pc2',1:'abs_loadings'})"
   ]
  },
  {
   "cell_type": "code",
   "execution_count": 115,
   "metadata": {},
   "outputs": [
    {
     "data": {
      "text/html": [
       "<div>\n",
       "<style scoped>\n",
       "    .dataframe tbody tr th:only-of-type {\n",
       "        vertical-align: middle;\n",
       "    }\n",
       "\n",
       "    .dataframe tbody tr th {\n",
       "        vertical-align: top;\n",
       "    }\n",
       "\n",
       "    .dataframe thead th {\n",
       "        text-align: right;\n",
       "    }\n",
       "</style>\n",
       "<table border=\"1\" class=\"dataframe\">\n",
       "  <thead>\n",
       "    <tr style=\"text-align: right;\">\n",
       "      <th></th>\n",
       "      <th>pc1</th>\n",
       "      <th>abs_loadings</th>\n",
       "    </tr>\n",
       "  </thead>\n",
       "  <tbody>\n",
       "    <tr>\n",
       "      <th>6</th>\n",
       "      <td>0.66524</td>\n",
       "      <td>age</td>\n",
       "    </tr>\n",
       "    <tr>\n",
       "      <th>15</th>\n",
       "      <td>0.66524</td>\n",
       "      <td>device_model_encoded</td>\n",
       "    </tr>\n",
       "    <tr>\n",
       "      <th>16</th>\n",
       "      <td>0.144994</td>\n",
       "      <td>NaN</td>\n",
       "    </tr>\n",
       "    <tr>\n",
       "      <th>1</th>\n",
       "      <td>0.144915</td>\n",
       "      <td>app_id</td>\n",
       "    </tr>\n",
       "    <tr>\n",
       "      <th>14</th>\n",
       "      <td>0.128828</td>\n",
       "      <td>is_active</td>\n",
       "    </tr>\n",
       "    <tr>\n",
       "      <th>12</th>\n",
       "      <td>0.127274</td>\n",
       "      <td>category_wide_encoded</td>\n",
       "    </tr>\n",
       "    <tr>\n",
       "      <th>9</th>\n",
       "      <td>0.124147</td>\n",
       "      <td>minute</td>\n",
       "    </tr>\n",
       "    <tr>\n",
       "      <th>4</th>\n",
       "      <td>0.0928638</td>\n",
       "      <td>longitude</td>\n",
       "    </tr>\n",
       "    <tr>\n",
       "      <th>5</th>\n",
       "      <td>0.0779171</td>\n",
       "      <td>latitude</td>\n",
       "    </tr>\n",
       "    <tr>\n",
       "      <th>10</th>\n",
       "      <td>0.0765541</td>\n",
       "      <td>second</td>\n",
       "    </tr>\n",
       "    <tr>\n",
       "      <th>13</th>\n",
       "      <td>0.0533525</td>\n",
       "      <td>phone_brand_encoded</td>\n",
       "    </tr>\n",
       "    <tr>\n",
       "      <th>2</th>\n",
       "      <td>0.0308353</td>\n",
       "      <td>label_id</td>\n",
       "    </tr>\n",
       "    <tr>\n",
       "      <th>3</th>\n",
       "      <td>0.0105602</td>\n",
       "      <td>event_id</td>\n",
       "    </tr>\n",
       "    <tr>\n",
       "      <th>8</th>\n",
       "      <td>0.00977884</td>\n",
       "      <td>hour</td>\n",
       "    </tr>\n",
       "    <tr>\n",
       "      <th>0</th>\n",
       "      <td>0.008665</td>\n",
       "      <td>device_id</td>\n",
       "    </tr>\n",
       "    <tr>\n",
       "      <th>11</th>\n",
       "      <td>0.00650643</td>\n",
       "      <td>category_encoded</td>\n",
       "    </tr>\n",
       "    <tr>\n",
       "      <th>7</th>\n",
       "      <td>0.00192448</td>\n",
       "      <td>day</td>\n",
       "    </tr>\n",
       "  </tbody>\n",
       "</table>\n",
       "</div>"
      ],
      "text/plain": [
       "           pc1           abs_loadings\n",
       "6      0.66524                    age\n",
       "15     0.66524   device_model_encoded\n",
       "16    0.144994                    NaN\n",
       "1     0.144915                 app_id\n",
       "14    0.128828              is_active\n",
       "12    0.127274  category_wide_encoded\n",
       "9     0.124147                 minute\n",
       "4    0.0928638              longitude\n",
       "5    0.0779171               latitude\n",
       "10   0.0765541                 second\n",
       "13   0.0533525    phone_brand_encoded\n",
       "2    0.0308353               label_id\n",
       "3    0.0105602               event_id\n",
       "8   0.00977884                   hour\n",
       "0     0.008665              device_id\n",
       "11  0.00650643       category_encoded\n",
       "7   0.00192448                    day"
      ]
     },
     "execution_count": 115,
     "metadata": {},
     "output_type": "execute_result"
    }
   ],
   "source": [
    "pc1_df.pc1=pc1_df.pc1.abs()\n",
    "\n",
    "pc1_df.sort_values(by=['pc1'],ascending=False)"
   ]
  },
  {
   "cell_type": "code",
   "execution_count": 113,
   "metadata": {},
   "outputs": [
    {
     "data": {
      "text/html": [
       "<div>\n",
       "<style scoped>\n",
       "    .dataframe tbody tr th:only-of-type {\n",
       "        vertical-align: middle;\n",
       "    }\n",
       "\n",
       "    .dataframe tbody tr th {\n",
       "        vertical-align: top;\n",
       "    }\n",
       "\n",
       "    .dataframe thead th {\n",
       "        text-align: right;\n",
       "    }\n",
       "</style>\n",
       "<table border=\"1\" class=\"dataframe\">\n",
       "  <thead>\n",
       "    <tr style=\"text-align: right;\">\n",
       "      <th></th>\n",
       "      <th>pc2</th>\n",
       "      <th>abs_loadings</th>\n",
       "    </tr>\n",
       "  </thead>\n",
       "  <tbody>\n",
       "    <tr>\n",
       "      <th>4</th>\n",
       "      <td>0.613121</td>\n",
       "      <td>longitude</td>\n",
       "    </tr>\n",
       "    <tr>\n",
       "      <th>5</th>\n",
       "      <td>0.604944</td>\n",
       "      <td>latitude</td>\n",
       "    </tr>\n",
       "    <tr>\n",
       "      <th>14</th>\n",
       "      <td>0.291743</td>\n",
       "      <td>is_active</td>\n",
       "    </tr>\n",
       "    <tr>\n",
       "      <th>16</th>\n",
       "      <td>0.256566</td>\n",
       "      <td>NaN</td>\n",
       "    </tr>\n",
       "    <tr>\n",
       "      <th>13</th>\n",
       "      <td>0.151736</td>\n",
       "      <td>phone_brand_encoded</td>\n",
       "    </tr>\n",
       "    <tr>\n",
       "      <th>6</th>\n",
       "      <td>0.131258</td>\n",
       "      <td>age</td>\n",
       "    </tr>\n",
       "    <tr>\n",
       "      <th>15</th>\n",
       "      <td>0.131258</td>\n",
       "      <td>device_model_encoded</td>\n",
       "    </tr>\n",
       "    <tr>\n",
       "      <th>9</th>\n",
       "      <td>0.123078</td>\n",
       "      <td>minute</td>\n",
       "    </tr>\n",
       "    <tr>\n",
       "      <th>2</th>\n",
       "      <td>0.118369</td>\n",
       "      <td>label_id</td>\n",
       "    </tr>\n",
       "    <tr>\n",
       "      <th>12</th>\n",
       "      <td>0.0987887</td>\n",
       "      <td>category_wide_encoded</td>\n",
       "    </tr>\n",
       "    <tr>\n",
       "      <th>7</th>\n",
       "      <td>0.0833134</td>\n",
       "      <td>day</td>\n",
       "    </tr>\n",
       "    <tr>\n",
       "      <th>1</th>\n",
       "      <td>0.0431848</td>\n",
       "      <td>app_id</td>\n",
       "    </tr>\n",
       "    <tr>\n",
       "      <th>3</th>\n",
       "      <td>0.0366241</td>\n",
       "      <td>event_id</td>\n",
       "    </tr>\n",
       "    <tr>\n",
       "      <th>8</th>\n",
       "      <td>0.0234556</td>\n",
       "      <td>hour</td>\n",
       "    </tr>\n",
       "    <tr>\n",
       "      <th>11</th>\n",
       "      <td>0.0086565</td>\n",
       "      <td>category_encoded</td>\n",
       "    </tr>\n",
       "    <tr>\n",
       "      <th>0</th>\n",
       "      <td>0.00275423</td>\n",
       "      <td>device_id</td>\n",
       "    </tr>\n",
       "    <tr>\n",
       "      <th>10</th>\n",
       "      <td>0.00249169</td>\n",
       "      <td>second</td>\n",
       "    </tr>\n",
       "  </tbody>\n",
       "</table>\n",
       "</div>"
      ],
      "text/plain": [
       "           pc2           abs_loadings\n",
       "4     0.613121              longitude\n",
       "5     0.604944               latitude\n",
       "14    0.291743              is_active\n",
       "16    0.256566                    NaN\n",
       "13    0.151736    phone_brand_encoded\n",
       "6     0.131258                    age\n",
       "15    0.131258   device_model_encoded\n",
       "9     0.123078                 minute\n",
       "2     0.118369               label_id\n",
       "12   0.0987887  category_wide_encoded\n",
       "7    0.0833134                    day\n",
       "1    0.0431848                 app_id\n",
       "3    0.0366241               event_id\n",
       "8    0.0234556                   hour\n",
       "11   0.0086565       category_encoded\n",
       "0   0.00275423              device_id\n",
       "10  0.00249169                 second"
      ]
     },
     "execution_count": 113,
     "metadata": {},
     "output_type": "execute_result"
    }
   ],
   "source": [
    "pc2_df.pc2=pc2_df.pc2.abs()\n",
    "\n",
    "pc2_df.sort_values(by=['pc2'],ascending=False)"
   ]
  },
  {
   "cell_type": "code",
   "execution_count": 116,
   "metadata": {},
   "outputs": [
    {
     "name": "stdout",
     "output_type": "stream",
     "text": [
      "root\n",
      " |-- age: integer (nullable = true)\n",
      " |-- device_model: string (nullable = true)\n",
      " |-- app_id: float (nullable = true)\n",
      " |-- is_active: integer (nullable = true)\n",
      " |-- category_mapped: string (nullable = true)\n",
      " |-- longitude: float (nullable = true)\n",
      " |-- latitude: float (nullable = true)\n",
      " |-- phone_brand: string (nullable = true)\n",
      "\n"
     ]
    }
   ],
   "source": [
    "impfeat=['age', 'device_model','app_id','is_active','category_mapped','longitude','latitude','phone_brand']\n",
    "\n",
    "ntrain_data=train_data.select(impfeat)\n",
    "ntrain_data.printSchema()"
   ]
  },
  {
   "cell_type": "code",
   "execution_count": 118,
   "metadata": {},
   "outputs": [
    {
     "data": {
      "text/plain": [
       "0.5834646953543081"
      ]
     },
     "execution_count": 118,
     "metadata": {},
     "output_type": "execute_result"
    }
   ],
   "source": [
    "# logistic with imp feat\n",
    "\n",
    "vc=feature.VectorAssembler(inputCols=['age','device_model_encoded','app_id','is_active',\\\n",
    "                                      'category_wide_encoded','longitude','latitude','phone_brand_encoded'],outputCol='features')\n",
    "\n",
    "pipe_prep2=Pipeline(stages=[indexer, category_wide, brand, device_model, vc, sc])\n",
    "\n",
    "logistic = classification.LogisticRegression(labelCol='gender_label', featuresCol='sfeatures')\n",
    "\n",
    "lr_pipe = Pipeline(stages=[pipe_prep2, logistic]).fit(training)\n",
    "\n",
    "result8=evaluator.evaluate(lr_pipe.transform(test))\n",
    "\n",
    "result8\n"
   ]
  },
  {
   "cell_type": "code",
   "execution_count": 119,
   "metadata": {},
   "outputs": [
    {
     "data": {
      "text/plain": [
       "0.7198191920332011"
      ]
     },
     "execution_count": 119,
     "metadata": {},
     "output_type": "execute_result"
    }
   ],
   "source": [
    "# RF with imp feat, with default parameters\n",
    "\n",
    "rf=classification.RandomForestClassifier(labelCol='gender_label', featuresCol='sfeatures')\n",
    "\n",
    "rf_pipe=Pipeline(stages=[pipe_prep2,rf]).fit(training)\n",
    "\n",
    "resultrf2=evaluator.evaluate(rf_pipe.transform(test))\n",
    "\n",
    "resultrf2"
   ]
  },
  {
   "cell_type": "code",
   "execution_count": 120,
   "metadata": {},
   "outputs": [
    {
     "data": {
      "text/plain": [
       "0.8957866676724066"
      ]
     },
     "execution_count": 120,
     "metadata": {},
     "output_type": "execute_result"
    }
   ],
   "source": [
    "# RF with imp feat, with maxDepth=10\n",
    "\n",
    "rf=classification.RandomForestClassifier(labelCol='gender_label', featuresCol='sfeatures',maxDepth=10)\n",
    "\n",
    "rf_pipe=Pipeline(stages=[pipe_prep2,rf]).fit(training)\n",
    "\n",
    "resultrf3=evaluator.evaluate(rf_pipe.transform(test))\n",
    "\n",
    "resultrf3"
   ]
  },
  {
   "cell_type": "code",
   "execution_count": 121,
   "metadata": {},
   "outputs": [
    {
     "data": {
      "text/plain": [
       "0.9097333833472312"
      ]
     },
     "execution_count": 121,
     "metadata": {},
     "output_type": "execute_result"
    }
   ],
   "source": [
    "# RF with imp feat, with maxDepth=10 and numOftrees\n",
    "\n",
    "rf=classification.RandomForestClassifier(labelCol='gender_label', featuresCol='sfeatures',maxDepth=10,numTrees=50)\n",
    "\n",
    "rf_pipe=Pipeline(stages=[pipe_prep2,rf]).fit(training)\n",
    "\n",
    "resultrf4=evaluator.evaluate(rf_pipe.transform(test))\n",
    "\n",
    "resultrf4"
   ]
  },
  {
   "cell_type": "code",
   "execution_count": null,
   "metadata": {},
   "outputs": [],
   "source": []
  }
 ],
 "metadata": {
  "kernelspec": {
   "display_name": "Python 3",
   "language": "python",
   "name": "python3"
  },
  "language_info": {
   "codemirror_mode": {
    "name": "ipython",
    "version": 3
   },
   "file_extension": ".py",
   "mimetype": "text/x-python",
   "name": "python",
   "nbconvert_exporter": "python",
   "pygments_lexer": "ipython3",
   "version": "3.6.7"
  }
 },
 "nbformat": 4,
 "nbformat_minor": 2
}
